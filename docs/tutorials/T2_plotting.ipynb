{
 "cells": [
  {
   "cell_type": "markdown",
   "id": "6d00f195",
   "metadata": {},
   "source": [
    "# T2 - Plotting with FPsim\n",
    "\n",
    "Basic plotting with FPsim is pretty straightforward. \n",
    "\n",
    "If you're new to FPsim, please start with tutorial T1 in order to install FPsim and learn how to run a basic simulation.\n",
    "\n",
    "The basic design philosophy of FPsim is: **common tasks should be simple**. For example:\n",
    "\n",
    "- Defining parameters\n",
    "- Running a simulation\n",
    "- Plotting results\n",
    "\n",
    "In tutorial T1 we learned how to define parameters and run a simulation. In this tutorial, we will take on our third simple task and plot the results of a simulation."
   ]
  },
  {
   "cell_type": "markdown",
   "id": "50d6ae1f",
   "metadata": {},
   "source": [
    "### Import FPsim and run a sim with default options\n",
    "In tutorial T1, we showed you that to create, run, and plot a sim with default options is simply:"
   ]
  },
  {
   "cell_type": "code",
   "execution_count": null,
   "id": "9809c4ea",
   "metadata": {},
   "outputs": [],
   "source": [
    "import fpsim as fp\n",
    "\n",
    "sim = fp.Sim()\n",
    "sim.run()\n",
    "fig = sim.plot()"
   ]
  },
  {
   "cell_type": "markdown",
   "id": "de4d4e4d",
   "metadata": {},
   "source": [
    "### Explore plotting options for a single sim\n",
    "\n",
    "Let's take a look at the basic suite of plotting options, once we've run our initial simulation.\n",
    "\n",
    "The basic plot function will plot births, deaths, and mcpr over the entire simulation.\n",
    "\n",
    "There are also pre-defined options that combine similar types of output. For instance, 'apo' stands for adverse pregnancy outcomes, and will plot infant deaths, stillbirths, and abortions.\n",
    "\n",
    "plot() will take any of the following options:\n",
    "\n",
    "* <i>'cpr'</i> will plot three different ways to define contraceptive prevalence - mCPR, CPR (includes traditional), and aCPR (includes traditional and restricts denominator to sexually active non-pregnant women) <br>\n",
    "* <i>'apo'</i> will plot adverse pregnancy outcomes, including abortion and miscarriage <br>\n",
    "* <i>'mortality'</i> will plot mortality-related outcomes <br>\n",
    "* <i>'method'</i> plots the method mix over time  <br>"
   ]
  },
  {
   "cell_type": "code",
   "execution_count": null,
   "id": "a4371b28",
   "metadata": {},
   "outputs": [],
   "source": [
    "sim.plot() # the default\n",
    "sim.plot('cpr')"
   ]
  },
  {
   "cell_type": "markdown",
   "id": "1687d8f7",
   "metadata": {},
   "source": [
    "In the next two tutorials, you'll learn how to build intervention scenarios with multiple simulations and plot the results. "
   ]
  }
 ],
 "metadata": {
  "kernelspec": {
   "display_name": "Python 3.9.12 ('base')",
   "language": "python",
   "name": "python3"
  },
  "language_info": {
   "codemirror_mode": {
    "name": "ipython",
    "version": 3
   },
   "file_extension": ".py",
   "mimetype": "text/x-python",
   "name": "python",
   "nbconvert_exporter": "python",
   "pygments_lexer": "ipython3",
   "version": "3.9.12"
  },
  "vscode": {
   "interpreter": {
    "hash": "f989c29971a53096ab577f7316d908e668661d6c8d7746449c0b0a201f667d60"
   }
  }
 },
 "nbformat": 4,
 "nbformat_minor": 5
}
