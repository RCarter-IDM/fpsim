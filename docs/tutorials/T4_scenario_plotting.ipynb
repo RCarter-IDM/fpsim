{
 "cells": [
  {
   "cell_type": "markdown",
   "metadata": {},
   "source": [
    "## T4 - Scenario plotting\n",
    "\n",
    "In T4, we will build on our T3 exercises and learn how to plot the intervention scenarios we've built. Note: We intend that these tutorials be done in order, for the greatest benefit. If you haven't yet done T1, T2, and T3, we recommend you start at the beginning.  "
   ]
  },
  {
   "cell_type": "markdown",
   "metadata": {},
   "source": [
    "First, let's run the scenarios we ended up with in T3. If you're coming here directly from T3, you can skip this step. "
   ]
  },
  {
   "cell_type": "code",
   "execution_count": null,
   "metadata": {},
   "outputs": [],
   "source": [
    "import fpsim as fp\n",
    "\n",
    "n_agents   = 10_000\n",
    "start_year = 1980\n",
    "repeats    = 3\n",
    "year       = 2012\n",
    "youth_ages = ['<18', '18-20']\n",
    "    \n",
    "pars = fp.pars(location = 'senegal', n_agents=n_agents, start_year=start_year, end_year=2020) #set pars to include all shared arguments\n",
    "pars.add_method(name='new injectables', eff=0.983)\n",
    "\n",
    "method = 'Injectables'\n",
    "kw = dict(method=method, ages=youth_ages) #set kwargs to take on the method and the age group\n",
    "d_kw = dict(dest=method, ages = youth_ages)\n",
    "f1 = fp.make_scen(\n",
    "        label = '2x uptake',\n",
    "        year = year,\n",
    "        probs = [\n",
    "            dict(init_factor = 2.0, **kw),\n",
    "                ]\n",
    "            )\n",
    "f2 = fp.make_scen(\n",
    "        label = '5x uptake',\n",
    "        year = year,\n",
    "        probs = [\n",
    "            dict(init_factor = 5.0, **kw),\n",
    "                ]\n",
    "            )\n",
    "    \n",
    "f3 = fp.make_scen(\n",
    "        label = '10x uptake',\n",
    "        year = year,\n",
    "        probs = [\n",
    "            dict(init_factor = 10.0, **kw),\n",
    "                ]\n",
    "            )\n",
    "f_switch = fp.make_scen(\n",
    "        label = '20 percent switching',\n",
    "        year = year,\n",
    "        probs = [\n",
    "            dict(source = 'Injectables', value = 0.20, **d_kw)\n",
    "                ]\n",
    "           )\n",
    "\n",
    "f4 = f2 + f_switch \n",
    "\n",
    "method = 'new injectables'\n",
    "kw = dict(method=method, ages = youth_ages)\n",
    "f_new = fp.make_scen(\n",
    "        label = 'introduce new method',\n",
    "        year = 2015, #replacing the intervention year, giving the new method a bit of a lag\n",
    "        probs = [\n",
    "            dict(copy_from='Injectables', **kw),\n",
    "            dict(init_value=0.05, **kw),\n",
    "                ]\n",
    "            )\n",
    "\n",
    "scens = fp.Scenarios(pars=pars, repeats=repeats)\n",
    "scens.add_scen(label='Baseline')\n",
    "scens.add_scen(f1)\n",
    "scens.add_scen(f2)\n",
    "scens.add_scen(f3)\n",
    "scens.add_scen(f4, label = '5x uptake plus switching') #combining f2 and f_switch and re-labeling here\n",
    "scens.add_scen(f_new)\n",
    "\n",
    "scens.run()"
   ]
  },
  {
   "cell_type": "markdown",
   "metadata": {},
   "source": [
    "Now that we've run the scenarios, we have a 'scens' object that we want to examine, and we'll do that first by plotting the results. The default plotting is simply plot(), which will show mCPR, live births, stillbirths, maternal deaths, infant deats, and the infant mortality rate. If you have more than one 'repeat', you'll see each scenario has a line and a confidence band. "
   ]
  },
  {
   "cell_type": "code",
   "execution_count": null,
   "metadata": {},
   "outputs": [],
   "source": [
    "scens.plot()"
   ]
  },
  {
   "cell_type": "markdown",
   "metadata": {},
   "source": [
    "Plot() has a couple of additional options, like 'cpr' to give a closer look at the different ways to define contraceptive prevalence - mCPR, CPR (includes traditional), and aCPR (includes traditional and restricts denominator to sexually active non-pregnant women). "
   ]
  },
  {
   "cell_type": "code",
   "execution_count": null,
   "metadata": {},
   "outputs": [],
   "source": [
    "scens.plot('cpr')"
   ]
  },
  {
   "cell_type": "markdown",
   "metadata": {},
   "source": [
    "The option 'apo' - adverse pregnancy outcomes - will plot various pregnancy outcomes including abortion and miscarriage. "
   ]
  },
  {
   "cell_type": "code",
   "execution_count": null,
   "metadata": {},
   "outputs": [],
   "source": [
    "scens.plot('apo')"
   ]
  },
  {
   "cell_type": "markdown",
   "metadata": {},
   "source": [
    "We can take a look at the method mix, including our newly introduced injectable, using the 'method' option. "
   ]
  },
  {
   "cell_type": "code",
   "execution_count": null,
   "metadata": {},
   "outputs": [],
   "source": [
    "scens.plot('method')"
   ]
  },
  {
   "cell_type": "markdown",
   "metadata": {},
   "source": [
    "You may want to zoom in on these plots, for instance, to the point of intervention, which you can do in iptyhon's interactive setting. Or you can limit the x-axis when you call the plot. This is particularly helpful if you're calling multiple plots and you want them all to match, without too much fiddling required on your end.\n",
    "\n",
    "To do this, we simply need to save the figures and write a quick for loop to set the x-axis limits. "
   ]
  },
  {
   "cell_type": "code",
   "execution_count": null,
   "metadata": {},
   "outputs": [],
   "source": [
    "method_fig = scens.plot('method')\n",
    "apo_fig = scens.plot('apo')\n",
    "for fig in [method_fig, apo_fig]:\n",
    "                for ax in fig.axes:\n",
    "                    ax.set_xlim(left = 2012, \n",
    "                                right = 2020)\n"
   ]
  },
  {
   "cell_type": "markdown",
   "metadata": {},
   "source": [
    "## Custom plotting\n",
    "Finally, you may want to take the results of the scenarios and build your own custom plots. One option is to create a branch of fpsim, and build out a new sim.plot() option, and submit it as a PR to integrate into the shared fpsim codebase. Great! \n",
    "\n",
    "Or, you may want to poke around on your own, without necessarily contributing to the shared codebase. In this case, you can always export the scenario dataframe and pull it into your chosen programming environment. (We sometimes do this to build aesthetically pleasing ggplot visuals in R!)\n",
    "\n"
   ]
  },
  {
   "cell_type": "code",
   "execution_count": 19,
   "metadata": {},
   "outputs": [
    {
     "name": "stdout",
     "output_type": "stream",
     "text": [
      "                    scenario   births  fails  popsize       tfr  \\\n",
      "0                   Baseline  32221.0  150.0   814797  5.738523   \n",
      "1                   Baseline  30989.0  176.0   794192  5.745813   \n",
      "2                   Baseline  31054.0  185.0   798944  5.681784   \n",
      "3                  2x uptake  32148.0  171.0   814422  5.735288   \n",
      "4                  2x uptake  30886.0  156.0   794167  5.730153   \n",
      "5                  2x uptake  31124.0  189.0   799037  5.690861   \n",
      "6                  5x uptake  32224.0  160.0   814791  5.744590   \n",
      "7                  5x uptake  30848.0  179.0   793803  5.731098   \n",
      "8                  5x uptake  31024.0  190.0   798838  5.683222   \n",
      "9                 10x uptake  32129.0  178.0   814374  5.728899   \n",
      "10                10x uptake  30838.0  192.0   793768  5.729643   \n",
      "11                10x uptake  30832.0  176.0   798489  5.662031   \n",
      "12  5x uptake plus switching  32137.0  186.0   814488  5.737138   \n",
      "13  5x uptake plus switching  30951.0  178.0   794165  5.740344   \n",
      "14  5x uptake plus switching  30916.0  180.0   798636  5.667427   \n",
      "15      introduce new method  32069.0  165.0   814527  5.729487   \n",
      "16      introduce new method  30967.0  182.0   794316  5.742534   \n",
      "17      introduce new method  30939.0  189.0   798716  5.673210   \n",
      "\n",
      "    infant_deaths  maternal_deaths      mcpr  \n",
      "0          1910.0             84.0  0.081640  \n",
      "1          1838.0            108.0  0.081753  \n",
      "2          1857.0            104.0  0.082264  \n",
      "3          1932.0             87.0  0.081778  \n",
      "4          1810.0            108.0  0.081915  \n",
      "5          1863.0            115.0  0.082993  \n",
      "6          1937.0             88.0  0.081591  \n",
      "7          1792.0            116.0  0.081839  \n",
      "8          1835.0            105.0  0.083413  \n",
      "9          1949.0             81.0  0.083548  \n",
      "10         1825.0            110.0  0.083982  \n",
      "11         1839.0            101.0  0.083970  \n",
      "12         1949.0             84.0  0.081858  \n",
      "13         1787.0            108.0  0.082662  \n",
      "14         1822.0            107.0  0.083092  \n",
      "15         1928.0             83.0  0.083444  \n",
      "16         1823.0            105.0  0.083634  \n",
      "17         1856.0            109.0  0.083885  \n"
     ]
    }
   ],
   "source": [
    "print(scens.results.df)"
   ]
  }
 ],
 "metadata": {
  "kernelspec": {
   "display_name": "Python 3.9.12 ('base')",
   "language": "python",
   "name": "python3"
  },
  "language_info": {
   "codemirror_mode": {
    "name": "ipython",
    "version": 3
   },
   "file_extension": ".py",
   "mimetype": "text/x-python",
   "name": "python",
   "nbconvert_exporter": "python",
   "pygments_lexer": "ipython3",
   "version": "3.9.12"
  },
  "orig_nbformat": 4,
  "vscode": {
   "interpreter": {
    "hash": "f989c29971a53096ab577f7316d908e668661d6c8d7746449c0b0a201f667d60"
   }
  }
 },
 "nbformat": 4,
 "nbformat_minor": 2
}
