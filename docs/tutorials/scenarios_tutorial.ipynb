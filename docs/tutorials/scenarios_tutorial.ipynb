{
 "cells": [
  {
   "cell_type": "markdown",
   "id": "94ebf73d",
   "metadata": {},
   "source": [
    "# FPsim Intervention Scenarios\n",
    "\n",
    "With FPsim's user-friendly Scenarios API, we can easily setup and compare multiple intervention scenarios against one another to better understand the complex interactions between demographics and family planning behavior.\n",
    "\n",
    "1. [Introduction](#introduction)\n",
    "2. [Setup](#setup)\n",
    "3. [Efficacy](#efficacy)\n",
    "4. [Switching](#switching)\n",
    "5. [Initiation/Discontinuation](#initiation)\n",
    "6. [Parameter changes](#parameter)\n",
    "7. [Custom interventions](#custom)\n",
    "8. [Comparison](#comparison)"
   ]
  },
  {
   "cell_type": "markdown",
   "id": "32dbb21b",
   "metadata": {},
   "source": [
    "## Introduction <a name=\"introduction\"></a>"
   ]
  },
  {
   "cell_type": "markdown",
   "id": "04f52f49",
   "metadata": {},
   "source": [
    "FPsim is a useful tool for understanding how demographics, contraceptive efficacy, and contraceptive uptake behaviors interact with one another. We will be going through a couple of scenarios using our \"Scenarios\" api, which makes it easier for researchers to customize and compare the results of family planning interventions."
   ]
  },
  {
   "cell_type": "markdown",
   "id": "723b1323",
   "metadata": {},
   "source": [
    "## Setup <a name=\"setup\"></a>\n",
    "#### A simple guide on how to set up a basic intervention scenario\n",
    "\n",
    "The below steps will demonstrate how we can model an increase in modern contraceptive efficacy and visualize the results."
   ]
  },
  {
   "cell_type": "code",
   "execution_count": null,
   "id": "1e6a376e",
   "metadata": {},
   "outputs": [],
   "source": [
    "import sciris as sc\n",
    "import fpsim as fp"
   ]
  },
  {
   "cell_type": "code",
   "execution_count": null,
   "id": "b1d9f015",
   "metadata": {},
   "outputs": [],
   "source": [
    "# First we create a Scenario object where:\n",
    "#    eff is the dictionary of specifications for how we want to change efficacy\n",
    "#    year is the year we want to implement the change\n",
    "#    label is how we want to label the scenario in the visualization\n",
    "scenario = fp.make_scen(eff={'Other modern':0.994}, year=2005, label='Increased modern')\n",
    "\n",
    "# Then we add it to the Scenarios object which is used to compare results across multiple scenarios\n",
    "# but for this case we will just be visualizing the one. Repeats defines how many times to run the \n",
    "# simulation in order to determine uncertainty intervals.\n",
    "scenarios = fp.Scenarios(scens=scenario, repeats=3)\n",
    "\n",
    "# Now that we have the scenario specifications, we can run the simulations\n",
    "scenarios.run()\n",
    "\n",
    "# To examine the resulting demoraphic features of the scenario we can use the plot_scens() function\n",
    "scenarios.plot_scens()"
   ]
  },
  {
   "cell_type": "markdown",
   "id": "5a908dd0",
   "metadata": {},
   "source": [
    "## Efficacy <a name=\"efficacy\"></a>\n",
    "#### How to to compare sim results across different contraceptive efficacies"
   ]
  },
  {
   "cell_type": "markdown",
   "id": "9048b5d2",
   "metadata": {},
   "source": [
    "Let's suppose we want to better understand how demographic features change at varying levels of efficacy of modern contraceptive methods. For this task we would create three specification dictionaries, add them to scenarios, and then run."
   ]
  },
  {
   "cell_type": "code",
   "execution_count": null,
   "id": "d807cd1d",
   "metadata": {},
   "outputs": [],
   "source": [
    "# In order to compare different scenarios to one another we must:\n",
    "\n",
    "# Define the different scenarios\n",
    "modern_995 = fp.make_scen(eff={'Other modern':0.994}, year=2005, label='Modern high efficacy')\n",
    "\n",
    "modern_75 = fp.make_scen(eff={'Other modern':0.75}, year=2005, label='Modern moderate efficacy')\n",
    "\n",
    "modern_50 = fp.make_scen(eff={'Other modern':0.5}, year=2005, label='Modern low efficacy')\n",
    "\n",
    "# Add to scenarios object\n",
    "scens_eff = fp.Scenarios(n=1000, repeats=3, scens=[modern_995, modern_75, modern_50])\n",
    "\n",
    "# Run scenarios\n",
    "scens_eff.run()\n",
    "\n",
    "# Compare results\n",
    "scens_eff.plot_scens()"
   ]
  },
  {
   "cell_type": "markdown",
   "id": "25c733a3",
   "metadata": {},
   "source": [
    "## Switching <a name=\"switching\"></a>\n",
    "#### How to compare sim results across different switching probabilities.\n",
    "\n",
    "If we want to understand how the probability of switching from one contraceptive to another affects a population, we may want to sweep this probability and examine the results. Below is how we would do this using Scenarios:"
   ]
  },
  {
   "cell_type": "code",
   "execution_count": null,
   "id": "d3de31cf",
   "metadata": {},
   "outputs": [],
   "source": [
    "# Within our scenario we can adjust the probability of switching from one intervention (source) to another (dest).\n",
    "# For the purpose of granular analysis we can even target specific ages, and postpartum status which often affects\n",
    "# a women's contraceptive uptake behavior. In the below example we target women in the first six months postpartum (matrix).\n",
    "high_switching = fp.make_scen(source='Other modern', dest='Injectables', year=2005, value=0.95, ages='18-20', matrix='pp1to6', label=\"high switching\")\n",
    "medium_switching = fp.make_scen(source='Other modern', dest='Injectables', year=2005, value=0.75, ages='18-20', matrix='pp1to6', label=\"medium switching\")\n",
    "low_switching = fp.make_scen(source='Other modern', dest='Injectables', year=2005, value=0.50, ages='18-20', matrix='pp1to6', label=\"low switching\")\n",
    "\n",
    "# Then we pass these scenarios into the Scenarios object as before\n",
    "scens_switching = fp.Scenarios(n=100, repeats=3, scens=[high_switching, medium_switching, low_switching])\n",
    "scens_switching.run()\n",
    "\n",
    "scens_switching.plot_scens()"
   ]
  },
  {
   "cell_type": "markdown",
   "id": "bb3a7dda",
   "metadata": {},
   "source": [
    "## Initiation and Discontinuation <a name=\"initiation\"></a> \n",
    "#### How to examine  initiation and discontinutation rates\n",
    "It is often important to examine the probability of beginning a contraceptive method or terminating it. The below steps will demonstrate how to compare varying iniation and discontinuation rates using Scenario keyword arguments:"
   ]
  },
  {
   "cell_type": "code",
   "execution_count": null,
   "id": "41f4555f",
   "metadata": {},
   "outputs": [],
   "source": [
    "# We can set the initiation factor by using the \"method\" and \"init_factor\" args.\n",
    "# One can also set the value explicitly with init_value\n",
    "high_init = fp.make_scen(label=\"Low init\", method=\"Injectables\", init_factor=1.5, year=2005)\n",
    "medium_init = fp.make_scen(label=\"Medium init\", method=\"Injectables\", init_factor=1.0, year=2005)\n",
    "low_init = fp.make_scen(label=\"high init\", method=\"Injectables\", init_factor=0.5, year=2005)\n",
    "\n",
    "scens_initiation = fp.Scenarios(location=\"test\", n=1000, scens=[high_init, medium_init, low_init])\n",
    "scens_initiation.run()\n",
    "scens_initiation.plot_scens()"
   ]
  },
  {
   "cell_type": "code",
   "execution_count": null,
   "id": "c0c9d89a",
   "metadata": {},
   "outputs": [],
   "source": [
    "# discont_factor and discont_value are used for setting discontinuation\n",
    "high_dis = fp.make_scen(year=2005, label=\"high dis\", method=\"Injectables\", discont_factor=1.5)\n",
    "medium_dis = fp.make_scen(year=2005, label=\"medium dis\", method=\"Injectables\", discont_factor=1.0)\n",
    "low_dis = fp.make_scen(year=2005, label=\"low dis\", method=\"Injectables\", discont_factor=0.5)\n",
    "\n",
    "scens_discont = fp.Scenarios(location=\"test\", n=1000, scens=[low_init, medium_init, high_init])\n",
    "scens_discont.run()\n",
    "scens_discont.plot_scens()"
   ]
  },
  {
   "cell_type": "markdown",
   "id": "df399dad",
   "metadata": {},
   "source": [
    "### **Neat trick**\n",
    "One great feature of Scenario objects is that you can add them together. So we could combine the above scenarios:"
   ]
  },
  {
   "cell_type": "code",
   "execution_count": null,
   "id": "980d94ad",
   "metadata": {},
   "outputs": [],
   "source": [
    "new_scenario = high_init + low_dis\n",
    "new_scenario2 = low_init + high_dis\n",
    "\n",
    "scens_combined = fp.Scenarios(location=\"test\", n=1000, scens=[new_scenario, new_scenario2])\n",
    "scens_combined.run()\n",
    "scens_combined.plot_scens()"
   ]
  },
  {
   "cell_type": "markdown",
   "id": "7372f356",
   "metadata": {},
   "source": [
    "## Parameter changes <a name=\"parameter\"></a>\n",
    "#### How to change any parameter in the sim at a given year\n",
    "Anything from the probabilitity of having twins to the exposure factor can be adjusted easily through keyword arguments: "
   ]
  },
  {
   "cell_type": "code",
   "execution_count": null,
   "id": "d69552f8",
   "metadata": {},
   "outputs": [],
   "source": [
    "low_exposure = fp.make_scen(par='exposure_factor', years=2000, vals=0.5)\n",
    "medium_exposure = fp.make_scen(par='exposure_factor', years=2000, vals=1.0)\n",
    "high_exposure = fp.make_scen(par='exposure_factor', years=2000, vals=1.5)\n",
    "\n",
    "scens_combined = fp.Scenarios(location=\"test\", n=1000, scens=[low_exposure, medium_exposure, high_exposure])\n",
    "scens_combined.run()\n",
    "scens_combined.plot_scens()"
   ]
  },
  {
   "cell_type": "markdown",
   "id": "4e3a3898",
   "metadata": {},
   "source": [
    "Specifically you can change any parameter in **People.pars** or **Sim.people.pars**"
   ]
  },
  {
   "cell_type": "markdown",
   "id": "af4fb033",
   "metadata": {},
   "source": [
    "## Custom interventions <a name=\"custom\"></a>\n",
    "#### How to define a function that changes something in the model as it runs\n",
    "As a sim runs, it applies \"interventions\" at each step. This is how we've acomplished the tasks in the past few sections. If none of the existing interventions are sufficient, it is possible to define and run one's own intervention:"
   ]
  },
  {
   "cell_type": "code",
   "execution_count": null,
   "id": "c0edade6",
   "metadata": {},
   "outputs": [],
   "source": [
    "# At each step, the sim itself is passed into the intervention. This allows\n",
    "# the user to access and change sim.People.pars, or parameters of the sim itself\n",
    "\n",
    "# To acomplish the \"low exposure\" scenario from before, we would say:\n",
    "def update_sim(sim): \n",
    "    if sim.y == 2002.0:\n",
    "        sim.people.pars['exposure_factor'] = 0.5\n",
    "        \n",
    "new_scen = fp.Scenarios(label=\"Low exposure\", scens=fp.make_scen(interventions=update_sim))\n",
    "new_scen.run()\n",
    "\n",
    "new_scen.plot_scens()"
   ]
  },
  {
   "cell_type": "markdown",
   "id": "e9df0bbb",
   "metadata": {},
   "source": [
    "**Warning** This is an advanced use of Scenarios and requires some knowledge of the inner workings of the Sim class"
   ]
  },
  {
   "cell_type": "markdown",
   "id": "7c031914",
   "metadata": {},
   "source": [
    "## Comparison <a name=\"comparison\"></a>\n",
    "#### How to compare sim results in different ways\n",
    "\n",
    "The Scenarios object has a number of methods for plotting results across different scenarios. Besides plot_scens() we also have **plot_sims()** which shows us the results of each individual sim run, **plot_cpr()** which shows us some statistics on CPR, and **analyze_sims()** which logs the results of the run as a handy pandas DataFrame."
   ]
  },
  {
   "cell_type": "markdown",
   "id": "b22e677f",
   "metadata": {},
   "source": [
    "**plot_sims()**\n",
    "\n",
    "Plot sims is useful for when we want to understand the specific results of each individual sim for a given scenario. Although a group of sims for a single scenario should all have the same parameters, a difference in seed can produce a significant effect."
   ]
  },
  {
   "cell_type": "code",
   "execution_count": null,
   "id": "a491139a",
   "metadata": {},
   "outputs": [],
   "source": [
    "# Single scenario with 3 runs\n",
    "scenarios.plot_sims()"
   ]
  },
  {
   "cell_type": "markdown",
   "id": "adedbdad",
   "metadata": {},
   "source": [
    "**plot_cpr()**\n",
    "If we are more interested in the relationship between contraceptive usage and age, then we can utilize this function to narrow our focus. Namely it offers three visualizations to understand the prevalence of contraceptive use:\n",
    "1. **mCPR** - modern contraceptive users who are women between 15-49\n",
    "2. **CPR** - all contraceptive users who are women between 15-49\n",
    "3. **ACPR** - all contraceptive users who are women that are sexually active and not pregnant\n"
   ]
  },
  {
   "cell_type": "code",
   "execution_count": null,
   "id": "8574c41f",
   "metadata": {},
   "outputs": [],
   "source": [
    "scenarios.plot_cpr()"
   ]
  },
  {
   "cell_type": "markdown",
   "id": "a9dcd77f",
   "metadata": {},
   "source": [
    "**analyze_sims()**\n",
    "\n",
    "Lastly, if we want to create our own custom visualization, analyze_sims() let's us log the data as a dictionary or dataframe."
   ]
  },
  {
   "cell_type": "code",
   "execution_count": null,
   "id": "64ad0b2a",
   "metadata": {},
   "outputs": [],
   "source": [
    "scenarios.analyze_sims()"
   ]
  },
  {
   "cell_type": "code",
   "execution_count": null,
   "id": "42aa12da",
   "metadata": {},
   "outputs": [],
   "source": [
    "# Dataframe format let's use the built-in dataframe functions for an aggregate view of the results\n",
    "df = scenarios.results.df\n",
    "df.plot(kind='bar', x=\"scenario\", y=\"popsize\")"
   ]
  },
  {
   "cell_type": "code",
   "execution_count": null,
   "id": "08ad46de",
   "metadata": {},
   "outputs": [],
   "source": [
    "# If we want some summary statistics on the results of the scenarios, we can view the results as a dictinary using .stats\n",
    "scens_eff.results.stats"
   ]
  },
  {
   "cell_type": "markdown",
   "id": "3c5491d8",
   "metadata": {},
   "source": [
    "## Further Exploration\n",
    "### For more info check out the [source code](https://github.com/amath-idm/fp_analyses) "
   ]
  }
 ],
 "metadata": {
  "kernelspec": {
   "display_name": "Python 3 (ipykernel)",
   "language": "python",
   "name": "python3"
  },
  "language_info": {
   "codemirror_mode": {
    "name": "ipython",
    "version": 3
   },
   "file_extension": ".py",
   "mimetype": "text/x-python",
   "name": "python",
   "nbconvert_exporter": "python",
   "pygments_lexer": "ipython3",
   "version": "3.8.3"
  }
 },
 "nbformat": 4,
 "nbformat_minor": 5
}
