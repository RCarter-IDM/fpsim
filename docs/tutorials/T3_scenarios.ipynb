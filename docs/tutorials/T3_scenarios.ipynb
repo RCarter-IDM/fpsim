{
 "cells": [
  {
   "cell_type": "markdown",
   "metadata": {},
   "source": [
    "## T3 - Scenarios\n",
    "\n",
    "You should now be able to run a single sim, using default or custom parameters (T1) and plot the results (T2). \n",
    "\n",
    "In this tutorial, you will learn how to create your own intervention scenarios. The code used to run scenarios is housed in the scenarios.py script, which you can reference as we go. To write custom scenarios, we define a new function - 'Scenario'. \n",
    "\n",
    "At the bottom of this tutorial, you can find a list of all the args that Scenario will take. "
   ]
  },
  {
   "cell_type": "markdown",
   "metadata": {},
   "source": [
    "Let's start with a basic scenario in which we increase the method efficacy of the existing injectables to 99%. We'll label the scenario s1, to keep it short & sweet. First, call in fpsim using fp. Then, ask it to make a scenario (make_scen), and pass a couple of arguments. First, we want injctables efficacy to increase, and second, we want that change to start in 2020. We can imagine using this kind of scenario when a user wants to <i>improve an existing method</i>, but does not think this will impact behavior. "
   ]
  },
  {
   "cell_type": "code",
   "execution_count": 2,
   "metadata": {},
   "outputs": [],
   "source": [
    "import fpsim as fp\n",
    "s1 = fp.make_scen(eff={'Injectables':0.99}, year = 2020)"
   ]
  },
  {
   "cell_type": "markdown",
   "metadata": {},
   "source": [
    "If we want to instead change behavior around a method, we can adjust the initiation, switching, and/or discontinuation. In s2, we'll double the initiation rate of injectables. "
   ]
  },
  {
   "cell_type": "code",
   "execution_count": 3,
   "metadata": {},
   "outputs": [],
   "source": [
    "s2 = fp.make_scen(method = 'Injectables', init_factor = 2, year = 2020)"
   ]
  },
  {
   "cell_type": "markdown",
   "metadata": {},
   "source": [
    "init_factor is shorthand for multiplying a specific source-destination dyad by an amount defined by the user (e.g. 0.5 to cut in half, 2.0 to double). So, the equivalent long form of s2 would be: "
   ]
  },
  {
   "cell_type": "code",
   "execution_count": 4,
   "metadata": {},
   "outputs": [],
   "source": [
    "s2 = fp.make_scen(source = \"None\", dest = \"Injectables\", factor = 2, year = 2020)"
   ]
  },
  {
   "cell_type": "markdown",
   "metadata": {},
   "source": [
    "Users may also want to specify a specific value, instead of using a factor. In this case, we would input init_value = [your value] instead of a factor. "
   ]
  },
  {
   "cell_type": "code",
   "execution_count": 5,
   "metadata": {},
   "outputs": [],
   "source": [
    "s2_value = fp.make_scen(method = 'Injectables', init_value = 0.07, year = 2020) # in this case, we would need robust user insights data to tell us that we should anticipate ~7% uptake"
   ]
  },
  {
   "cell_type": "markdown",
   "metadata": {},
   "source": [
    "Scenarios can be easily combined, so that you can layer multiple interventions in one scenario. Here, we can boost the efficacy of injectables <i>and</i> double the uptake. "
   ]
  },
  {
   "cell_type": "code",
   "execution_count": 6,
   "metadata": {},
   "outputs": [],
   "source": [
    "s3 = s1 + s2"
   ]
  },
  {
   "cell_type": "markdown",
   "metadata": {},
   "source": [
    "Rarely are we so lucky to have such straightforward interventions, however! Most of the time, the world is much more complex and nuanced. Let's say we think that the newly improved injectables will especially appeal to the 35+ audience when it hits the market in 2027."
   ]
  },
  {
   "cell_type": "code",
   "execution_count": 7,
   "metadata": {},
   "outputs": [],
   "source": [
    "s4 = fp.make_scen(method = 'Injectables', init_factor = 2.0, ages = '>35', year = 2027)"
   ]
  },
  {
   "cell_type": "markdown",
   "metadata": {},
   "source": [
    "We can also combine different changes in a single scenario by using a dictionary. In this case, let's imagine that our newly improved 2027 injectables will appeal to the 35+ audience <i>and</i> will draw not only new users, but current condom users. In this case, we need two lines of changes, one line to affect injectables, and one to affect condom switching behavior. "
   ]
  },
  {
   "cell_type": "code",
   "execution_count": 15,
   "metadata": {},
   "outputs": [],
   "source": [
    "s5 = fp.make_scen(\n",
    "    year = 2027,\n",
    "    probs = [\n",
    "        dict(method = 'Injectables', init_factor = 2.0, ages = '>35'),\n",
    "        dict(source = 'Condoms', dest = 'Injectables', value = 0.20) #assume 20% likelihood of condom users to switch to injectables\n",
    "    ]\n",
    ")"
   ]
  },
  {
   "cell_type": "markdown",
   "metadata": {},
   "source": [
    "If you want to write up several scenarios that share multiple arguments, it's easy to use kwargs to make life easier (and more legible). In this example, we'll take a look at some counterfactual scenarios in which we see big increases in injectable uptake for the under 20 population. We set the pars first as global - so they'll be part of all scenarios. We then set kwargs as a dictionary that specific scenarios will pull. "
   ]
  },
  {
   "cell_type": "code",
   "execution_count": 23,
   "metadata": {},
   "outputs": [],
   "source": [
    "    n_agents   = 10_000\n",
    "    start_year = 1980\n",
    "    repeats    = 3\n",
    "    year       = 2012\n",
    "    youth_ages = ['<18', '18-20']\n",
    "    \n",
    "    pars = fp.pars(location = 'senegal', n_agents=n_agents, start_year=start_year, end_year=2020) #set pars to include all shared arguments\n",
    "    \n",
    "    method = 'Injectables'\n",
    "    kw = dict(method=method, ages=youth_ages) #set kwargs to take on the method and the age group\n",
    "    d_kw = dict(dest=method, ages = youth_ages)\n",
    "    f1 = fp.make_scen(\n",
    "            label = '2x uptake',\n",
    "            year = year,\n",
    "            probs = [\n",
    "                dict(init_factor = 2.0, **kw),\n",
    "                    ]\n",
    "                )\n",
    "    f2 = fp.make_scen(\n",
    "            label = '5x uptake',\n",
    "            year = year,\n",
    "            probs = [\n",
    "                dict(init_factor = 5.0, **kw),\n",
    "                    ]\n",
    "                )\n",
    "    \n",
    "    f3 = fp.make_scen(\n",
    "            label = '10x uptake',\n",
    "            year = year,\n",
    "            probs = [\n",
    "                dict(init_factor = 10.0, **kw),\n",
    "                    ]\n",
    "                )\n",
    "    f_switch = fp.make_scen(\n",
    "            label = '20 percent switching',\n",
    "            year = year,\n",
    "            probs = [\n",
    "                dict(source = 'Injectables', value = 0.20, **d_kw)\n",
    "                    ]\n",
    "               )\n",
    "\n",
    "    f4 = f2 + f_switch # We wil come back to this later.\n",
    "            \n"
   ]
  },
  {
   "cell_type": "markdown",
   "metadata": {},
   "source": [
    "So, now that we've defined the scenarios we want to explore, we need to run them together so that we can compare them. Using the 'f' scenarios from above, we first call on Scenarios to run the sims with the pars and repeats we defined above. We're then going to add in the new scens (including the baseline) one by one. Note: You can label scenarios here and they'll override what you used as a label when defining the scenarios. This can be useful if you're combining two different scenarios and you want to re-label the combination.  "
   ]
  },
  {
   "cell_type": "code",
   "execution_count": 20,
   "metadata": {},
   "outputs": [],
   "source": [
    "\n",
    "scens = fp.Scenarios(pars=pars, repeats=repeats)\n",
    "scens.add_scen(label='Baseline')\n",
    "scens.add_scen(f1)\n",
    "scens.add_scen(f2)\n",
    "scens.add_scen(f3)\n",
    "scens.add_scen(f4, label = '5x uptake plus switching') #combining f2 and f_switch and re-labeling here"
   ]
  },
  {
   "cell_type": "code",
   "execution_count": 21,
   "metadata": {},
   "outputs": [],
   "source": [
    "#Note: Running the scenarios can take quite a while, depending on how large your starting population is (n_agents) and how many times you'd like to repeat the sim with a new seed (repeats). \n",
    "#On a local machine, with n_agents = 10,000 and repeats = 3, this run took the author 3m 2.6s. YMMV!\n",
    "scens.run()"
   ]
  },
  {
   "cell_type": "markdown",
   "metadata": {},
   "source": [
    "Congratulations on making it this far! Below you'll find the args for scenarios, which we hope will help you craft your own scenarios. In T4, we'll go through the plotting options for scenarios. "
   ]
  },
  {
   "cell_type": "markdown",
   "metadata": {},
   "source": [
    "# Args for Scenarios\n",
    " \n",
    "    Args (shared):\n",
    "        spec   (dict): a pre-made specification of a scenario; see keyword explanations below (optional)\n",
    "        args   (list): additional specifications (optional)\n",
    "        label  (str): the sim label to use for this scenario\n",
    "        pars   (dict): optionally supply additional sim parameters to use with this scenario (that take effect at the beginning of the sim, not at the point of intervention)\n",
    "        year   (float): the year at which to activate efficacy and probability scenarios\n",
    "        matrix (str): which set of probabilities to modify for probability scenarios (e.g. annual or postpartum)\n",
    "        ages   (str/list): the age groups to modify the probabilities for\n",
    "\n",
    "    Args (efficacy):\n",
    "        year (float): as above\n",
    "        eff  (dict): a dictionary of method names and new efficacy values\n",
    "\n",
    "    Args (probablity):\n",
    "        year   (float): as above\n",
    "        matrix (str): as above\n",
    "        ages   (str): as above\n",
    "        source (str): the method to switch from\n",
    "        dest   (str): the method to switch to\n",
    "        factor (float): if supplied, multiply the [source, dest] probability by this amount\n",
    "        value  (float): if supplied, instead of factor, replace the [source, dest] probability by this value\n",
    "        copy_from (str): if supplied, copy probabilities from a different method\n",
    "\n",
    "    Args (initiation/discontinuation):\n",
    "        year   (float): as above\n",
    "        matrix (str): as above\n",
    "        ages   (str): as above\n",
    "        method (str): the method for initiation/discontinuation\n",
    "        init_factor    (float): as with \"factor\" above, for initiation (None → method)\n",
    "        discont_factor (float): as with \"factor\" above, for discontinuation (method → None)\n",
    "        init_value     (float): as with \"value\" above, for initiation (None → method)\n",
    "        discont_value  (float): as with \"value\" above, for discontinuation (method → None)\n",
    "\n",
    "    Args (parameter):\n",
    "        par (str): the parameter to modify\n",
    "        par_years (float/list): the year(s) at which to apply the modifications\n",
    "        par_vals (float/list): the value(s) of the parameter for each year\n",
    "\n",
    "    Args (custom):\n",
    "        interventions (Intervention/list): any custom intervention(s) to be applied to the scenario\n",
    "\n"
   ]
  }
 ],
 "metadata": {
  "kernelspec": {
   "display_name": "Python 3.9.12 ('base')",
   "language": "python",
   "name": "python3"
  },
  "language_info": {
   "codemirror_mode": {
    "name": "ipython",
    "version": 3
   },
   "file_extension": ".py",
   "mimetype": "text/x-python",
   "name": "python",
   "nbconvert_exporter": "python",
   "pygments_lexer": "ipython3",
   "version": "3.9.12"
  },
  "orig_nbformat": 4,
  "vscode": {
   "interpreter": {
    "hash": "f989c29971a53096ab577f7316d908e668661d6c8d7746449c0b0a201f667d60"
   }
  }
 },
 "nbformat": 4,
 "nbformat_minor": 2
}
