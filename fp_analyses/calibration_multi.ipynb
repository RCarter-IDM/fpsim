{
 "cells": [
  {
   "cell_type": "code",
   "execution_count": null,
   "id": "e46c8fa3-b8d9-4e24-bdea-a6edbcc3cc96",
   "metadata": {},
   "outputs": [],
   "source": [
    "\"\"\"\n",
    "Run tests on the calibration object.\n",
    "\"\"\"\n",
    "\n",
    "%matplotlib widget\n",
    "\n",
    "import sciris as sc\n",
    "import fpsim as fp\n",
    "import fp_analyses as fa\n",
    "import pylab as pl\n",
    "\n",
    "pl.rc('figure', dpi=50) # Make fonts much smaller\n",
    "\n",
    "do_plot = 1\n",
    "total_trials = 50\n",
    "\n",
    "# Set parameters\n",
    "pars = fa.senegal_parameters.make_pars()\n",
    "pars['n'] = 100\n",
    "pars['verbose'] = 0\n",
    "calib = fp.Calibration(pars=pars)\n",
    "\n",
    "calib_pars = dict(\n",
    "    exposure_correction = [1.0, 0.9, 1.1],\n",
    "    fecundity_variation_low = [0.4, 0.1, 0.9],\n",
    "    fecundity_variation_high = [1.4, 1.1, 1.9],\n",
    "    maternal_mortality_multiplier = [1, 0.75, 3.0],\n",
    "    abortion_prob = [0.086, 0.017, 0.1]\n",
    ")\n",
    "\n",
    "weights = dict(\n",
    "    maternal_mortality_ratio = 0.0,\n",
    ")\n",
    "\n",
    "\n",
    "if __name__ == '__main__':\n",
    "\n",
    "    # Start timing and optionally enable interactive plotting\n",
    "    T = sc.tic()\n",
    "\n",
    "    # Calculate calibration\n",
    "    calib.calibrate(calib_pars=calib_pars, total_trials=total_trials, weights=weights)\n",
    "    before,after = calib.summarize()\n",
    "\n",
    "    if do_plot:\n",
    "        calib.before.plot(do_show=False)\n",
    "        calib.after.plot(do_show=False)\n",
    "        calib.before.fit.plot(do_show=False)\n",
    "        calib.after.fit.plot(do_show=False)\n",
    "\n",
    "    # Wrap up\n",
    "    print('\\n'*2)\n",
    "    sc.toc(T)\n",
    "    print('Done.')\n"
   ]
  },
  {
   "cell_type": "code",
   "execution_count": null,
   "id": "9d9b811b-4358-43f8-8cb2-5da3a155fcfb",
   "metadata": {},
   "outputs": [],
   "source": [
    "print('hi')"
   ]
  },
  {
   "cell_type": "code",
   "execution_count": null,
   "id": "6639a4a0-fc8d-44b3-b5e4-0b1922a36e2e",
   "metadata": {},
   "outputs": [],
   "source": []
  }
 ],
 "metadata": {
  "kernelspec": {
   "display_name": "Python 3 (ipykernel)",
   "language": "python",
   "name": "python3"
  },
  "language_info": {
   "codemirror_mode": {
    "name": "ipython",
    "version": 3
   },
   "file_extension": ".py",
   "mimetype": "text/x-python",
   "name": "python",
   "nbconvert_exporter": "python",
   "pygments_lexer": "ipython3",
   "version": "3.8.8"
  }
 },
 "nbformat": 4,
 "nbformat_minor": 5
}
