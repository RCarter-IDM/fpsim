{
 "cells": [
  {
   "cell_type": "code",
   "execution_count": 4,
   "id": "e46c8fa3-b8d9-4e24-bdea-a6edbcc3cc96",
   "metadata": {},
   "outputs": [
    {
     "name": "stderr",
     "output_type": "stream",
     "text": [
      "\u001b[32m[I 2021-07-16 19:18:48,390]\u001b[0m A new study created in RDB with name: fpsim_calibration\u001b[0m\n"
     ]
    },
    {
     "name": "stdout",
     "output_type": "stream",
     "text": [
      "\u001b[36m\n",
      "\n",
      "\n",
      "——————————————————————————————\n",
      "Starting calibration\n",
      "——————————————————————————————\n",
      "\u001b[0m\n",
      "Settings:\n",
      "#0. name:      'fpsim_calibration'\n",
      "#1. db_name:   'fpsim_calibration.db'\n",
      "#2. storage:   'sqlite:///fpsim_calibration.db'\n",
      "#3. n_trials:  1\n",
      "#4. n_workers: 64\n",
      "Removed existing calibration fpsim_calibration.db\n",
      "Final population size: 577.\n",
      "Run finished for \"Default\" after 1.9 s\n",
      "Final population size: 289.\n",
      "Final population size: 1038.Run finished for \"Default\" after 2.2 s\n",
      "\n",
      "Run finished for \"Default\" after 2.3 s\n"
     ]
    },
    {
     "name": "stderr",
     "output_type": "stream",
     "text": [
      "\u001b[32m[I 2021-07-16 19:18:52,277]\u001b[0m Trial 0 finished with value: 42.122863284173675 and parameters: {'exposure_correction': 1.0656497060727372, 'fecundity_variation_low': 0.6924022735925031, 'fecundity_variation_high': 1.3014987732029286, 'maternal_mortality_multiplier': 2.697099372041701, 'abortion_prob': 0.02929083498854947}. Best is trial 0 with value: 42.122863284173675.\u001b[0m\n"
     ]
    },
    {
     "name": "stdout",
     "output_type": "stream",
     "text": [
      "WARNING: exception at age_parity_stats Final population size: 191.24Final population size: 195. \n",
      "\n",
      "Run finished for \"Default\" after 2.3 s33\n",
      "Run finished for \"Default\" after 2.5 s \n",
      "33Final population size: 348. \n",
      "24\n",
      "Run finished for \"Default\" after 2.5 sWARNING: exception at Final population size: 419.\n",
      "age_parity_stats\n",
      "Run finished for \"Default\" after 2.5 s \n",
      "25 33 33 24\n",
      "WARNING: exception at age_parity_stats 26 33 33 24"
     ]
    },
    {
     "name": "stderr",
     "output_type": "stream",
     "text": [
      "\u001b[32m[I 2021-07-16 19:18:52,760]\u001b[0m Trial 1 finished with value: 72.66766686812737 and parameters: {'exposure_correction': 1.0281376330953593, 'fecundity_variation_low': 0.7837865989440547, 'fecundity_variation_high': 1.621442484800275, 'maternal_mortality_multiplier': 1.744215117417412, 'abortion_prob': 0.09668085596591168}. Best is trial 0 with value: 42.122863284173675.\u001b[0m\n"
     ]
    },
    {
     "name": "stdout",
     "output_type": "stream",
     "text": [
      "\n",
      "WARNING: exception at age_parity_stats 27 33 33 24\n",
      "WARNING: exception at age_parity_stats Final population size: 814.28 \n",
      "33Run finished for \"Default\" after 2.7 s \n",
      "33 WARNING: exception at24\n",
      " age_parity_statsWARNING: exception at  age_parity_stats24  2933WARNING: exception at   age_parity_stats3333  3327 24 \n",
      "WARNING: exception at  2433age_parity_stats\n",
      " WARNING: exception at 30 33  33 2733\n",
      " WARNING: exception at24age_parity_stats  age_parity_stats\n",
      "25 WARNING: exception at28 33   33age_parity_stats33  31 3324  \n",
      "33 WARNING: exception at 33age_parity_stats 27\n",
      " 2624\n",
      "WARNING: exception atWARNING: exception at   33age_parity_statsage_parity_stats   332932   3333 24 3333\n",
      " WARNING: exception at  27age_parity_stats24\n",
      " WARNING: exception at27\n",
      " "
     ]
    },
    {
     "name": "stderr",
     "output_type": "stream",
     "text": [
      "\u001b[32m[I 2021-07-16 19:18:53,055]\u001b[0m Trial 10 finished with value: 49.56258202014393 and parameters: {'exposure_correction': 0.9512418721351055, 'fecundity_variation_low': 0.6742983924903938, 'fecundity_variation_high': 1.209867396978364, 'maternal_mortality_multiplier': 2.1968198491622077, 'abortion_prob': 0.026730387635159614}. Best is trial 0 with value: 42.122863284173675.\u001b[0m\n"
     ]
    },
    {
     "name": "stdout",
     "output_type": "stream",
     "text": [
      "33 "
     ]
    },
    {
     "name": "stderr",
     "output_type": "stream",
     "text": [
      "\u001b[32m[I 2021-07-16 19:18:53,075]\u001b[0m Trial 6 finished with value: 50.182928378075964 and parameters: {'exposure_correction': 0.9219565006327971, 'fecundity_variation_low': 0.3431241497156512, 'fecundity_variation_high': 1.429240466016452, 'maternal_mortality_multiplier': 1.333284613900812, 'abortion_prob': 0.09228034491432016}. Best is trial 0 with value: 42.122863284173675.\u001b[0m\n"
     ]
    },
    {
     "name": "stdout",
     "output_type": "stream",
     "text": [
      " age_parity_stats33  3024 \n",
      "33WARNING: exception at  33age_parity_stats  2728\n",
      " WARNING: exception at age_parity_stats33  31 3333  24\n",
      "33WARNING: exception at  age_parity_stats27 \n"
     ]
    },
    {
     "name": "stderr",
     "output_type": "stream",
     "text": [
      "\u001b[32m[I 2021-07-16 19:18:53,168]\u001b[0m Trial 4 finished with value: 56.50029803708429 and parameters: {'exposure_correction': 1.0549905249542566, 'fecundity_variation_low': 0.4057185771651065, 'fecundity_variation_high': 1.1250289002920297, 'maternal_mortality_multiplier': 1.0691396001075713, 'abortion_prob': 0.026409419287102526}. Best is trial 0 with value: 42.122863284173675.\u001b[0m\n"
     ]
    },
    {
     "name": "stdout",
     "output_type": "stream",
     "text": [
      "29WARNING: exception at  33age_parity_stats  3233 "
     ]
    },
    {
     "name": "stderr",
     "output_type": "stream",
     "text": [
      "\u001b[32m[I 2021-07-16 19:18:53,189]\u001b[0m Trial 2 finished with value: 64.13706942719729 and parameters: {'exposure_correction': 1.073674211009526, 'fecundity_variation_low': 0.5310745874419405, 'fecundity_variation_high': 1.6954827713828695, 'maternal_mortality_multiplier': 0.8487499488541631, 'abortion_prob': 0.09240769655999037}. Best is trial 0 with value: 42.122863284173675.\u001b[0m\n"
     ]
    },
    {
     "name": "stdout",
     "output_type": "stream",
     "text": [
      " 33Final population size: 178. 24\n",
      "33\n",
      "Run finished for \"Default\" after 2.8 sWARNING: exception at \n",
      "27 \n",
      "age_parity_stats 30 33 33 24\n",
      "WARNING: exception at age_parity_stats 31 33 33 24\n",
      "WARNING: exception at "
     ]
    },
    {
     "name": "stderr",
     "output_type": "stream",
     "text": [
      "\u001b[32m[I 2021-07-16 19:18:53,294]\u001b[0m Trial 3 finished with value: 70.35635345117782 and parameters: {'exposure_correction': 0.9692908166879318, 'fecundity_variation_low': 0.34730193954600586, 'fecundity_variation_high': 1.2326148058419735, 'maternal_mortality_multiplier': 2.8433098671189314, 'abortion_prob': 0.04677207141124683}. Best is trial 0 with value: 42.122863284173675.\u001b[0m\n"
     ]
    },
    {
     "name": "stdout",
     "output_type": "stream",
     "text": [
      "age_parity_stats 32 33 33 24\n",
      "WARNING: exception at age_parity_stats 18 33 33 18\n",
      "WARNING: exception at age_parity_stats"
     ]
    },
    {
     "name": "stderr",
     "output_type": "stream",
     "text": [
      "\u001b[32m[I 2021-07-16 19:18:53,403]\u001b[0m Trial 11 finished with value: 71.76107635327674 and parameters: {'exposure_correction': 0.9436964125587558, 'fecundity_variation_low': 0.12771039130618098, 'fecundity_variation_high': 1.1238377577839453, 'maternal_mortality_multiplier': 1.1456217828376425, 'abortion_prob': 0.0535765969820806}. Best is trial 0 with value: 42.122863284173675.\u001b[0m\n"
     ]
    },
    {
     "name": "stdout",
     "output_type": "stream",
     "text": [
      " 19 33 33 18\n",
      "WARNING: exception at age_parity_stats 20 33 33 18\n",
      "WARNING: exception at age_parity_stats 21 33 33 18\n",
      "WARNING: exception at age_parity_stats 22 33 33 18\n",
      "WARNING: exception at age_parity_stats 23Final population size: 394. \n",
      "Run finished for \"Default\" after 2.9 s33\n",
      " 33 18\n",
      "WARNING: exception at age_parity_stats 24 33 33 18\n",
      "WARNING: exception at age_parity_stats 25 33 33 18\n",
      "WARNING: exception at age_parity_stats 26Final population size: 396.\n",
      "Run finished for \"Default\" after 2.6 s \n",
      "33 33 18\n",
      "WARNING: exception at age_parity_stats 27 33 33 18\n",
      "WARNING: exception at age_parity_stats 28 33 33 18\n",
      "WARNING: exception at age_parity_stats 29 33 WARNING: exception at 33age_parity_stats 18 \n",
      "30WARNING: exception at 33  33age_parity_stats 30\n",
      "WARNING: exception at  30age_parity_stats  33 3133 18 33\n",
      " WARNING: exception at33  age_parity_stats30 \n",
      "31WARNING: exception atFinal population size: 456.  33\n",
      " 33age_parity_statsRun finished for \"Default\" after 3.0 s  \n",
      "18\n",
      "32WARNING: exception at  33age_parity_stats  3233  33 3330 \n",
      "18\n",
      "Final population size: 603.\n",
      "Run finished for \"Default\" after 2.8 s\n"
     ]
    },
    {
     "name": "stderr",
     "output_type": "stream",
     "text": [
      "\u001b[32m[I 2021-07-16 19:18:53,821]\u001b[0m Trial 29 finished with value: 44.089683770253565 and parameters: {'exposure_correction': 1.0310118994689632, 'fecundity_variation_low': 0.14798406781157178, 'fecundity_variation_high': 1.4503971353575609, 'maternal_mortality_multiplier': 2.5474603733142063, 'abortion_prob': 0.09872957470978592}. Best is trial 0 with value: 42.122863284173675.\u001b[0m\n",
      "\u001b[32m[I 2021-07-16 19:18:53,835]\u001b[0m Trial 12 finished with value: 46.01849654083496 and parameters: {'exposure_correction': 0.9857807477876432, 'fecundity_variation_low': 0.801220767757199, 'fecundity_variation_high': 1.3035904250844474, 'maternal_mortality_multiplier': 1.1323868798990093, 'abortion_prob': 0.09753808356838822}. Best is trial 0 with value: 42.122863284173675.\u001b[0m\n"
     ]
    },
    {
     "name": "stdout",
     "output_type": "stream",
     "text": [
      "Final population size: 962.\n"
     ]
    },
    {
     "name": "stderr",
     "output_type": "stream",
     "text": [
      "\u001b[32m[I 2021-07-16 19:18:53,849]\u001b[0m Trial 8 finished with value: 70.6802224778432 and parameters: {'exposure_correction': 0.9234326909618139, 'fecundity_variation_low': 0.2080009435228239, 'fecundity_variation_high': 1.114869846570788, 'maternal_mortality_multiplier': 0.8882701222141391, 'abortion_prob': 0.07007438102048405}. Best is trial 0 with value: 42.122863284173675.\u001b[0m\n"
     ]
    },
    {
     "name": "stdout",
     "output_type": "stream",
     "text": [
      "Run finished for \"Default\" after 3.1 s\n",
      "Final population size: 907.\n",
      "Run finished for \"Default\" after 3.2 s\n"
     ]
    },
    {
     "name": "stderr",
     "output_type": "stream",
     "text": [
      "\u001b[32m[I 2021-07-16 19:18:54,054]\u001b[0m Trial 24 finished with value: 49.6165750444366 and parameters: {'exposure_correction': 0.9788905851056867, 'fecundity_variation_low': 0.81845524510686, 'fecundity_variation_high': 1.332399864148486, 'maternal_mortality_multiplier': 1.4605423799313875, 'abortion_prob': 0.0935347435033557}. Best is trial 0 with value: 42.122863284173675.\u001b[0m\n",
      "\u001b[32m[I 2021-07-16 19:18:54,061]\u001b[0m Trial 18 finished with value: 44.07200377143679 and parameters: {'exposure_correction': 1.09177354154869, 'fecundity_variation_low': 0.2932054462079029, 'fecundity_variation_high': 1.610110415542438, 'maternal_mortality_multiplier': 2.5249907398486133, 'abortion_prob': 0.08813439295530291}. Best is trial 0 with value: 42.122863284173675.\u001b[0m\n"
     ]
    },
    {
     "name": "stdout",
     "output_type": "stream",
     "text": [
      "Final population size: 1542.\n",
      "Run finished for \"Default\" after 3.3 s\n"
     ]
    },
    {
     "name": "stderr",
     "output_type": "stream",
     "text": [
      "\u001b[32m[I 2021-07-16 19:18:54,168]\u001b[0m Trial 21 finished with value: 67.42157962481842 and parameters: {'exposure_correction': 0.968512122237701, 'fecundity_variation_low': 0.8947445894134749, 'fecundity_variation_high': 1.4251731422408476, 'maternal_mortality_multiplier': 1.8606634375606605, 'abortion_prob': 0.03825527574082757}. Best is trial 0 with value: 42.122863284173675.\u001b[0m\n",
      "\u001b[32m[I 2021-07-16 19:18:54,197]\u001b[0m Trial 17 finished with value: 64.79594413870275 and parameters: {'exposure_correction': 1.0173251839620479, 'fecundity_variation_low': 0.6547206625230206, 'fecundity_variation_high': 1.6129025804301378, 'maternal_mortality_multiplier': 2.1102813148795567, 'abortion_prob': 0.05253661872691903}. Best is trial 0 with value: 42.122863284173675.\u001b[0m\n",
      "\u001b[32m[I 2021-07-16 19:18:54,430]\u001b[0m Trial 7 finished with value: 98.69939330278714 and parameters: {'exposure_correction': 1.037379377985528, 'fecundity_variation_low': 0.6739358561522127, 'fecundity_variation_high': 1.8869504028059123, 'maternal_mortality_multiplier': 2.970671979049585, 'abortion_prob': 0.06538342548916684}. Best is trial 0 with value: 42.122863284173675.\u001b[0m\n"
     ]
    },
    {
     "name": "stdout",
     "output_type": "stream",
     "text": [
      "Final population size: 151.\n",
      "Run finished for \"Default\" after 2.8 s\n",
      "Final population size: 1627.\n",
      "Run finished for \"Default\" after 3.1 s\n",
      "WARNING: exception at age_parity_stats 18 33 33 18\n",
      "WARNING: exception at age_parity_stats 19 33 33 18\n",
      "WARNING: exception at age_parity_stats 20 33 33 18\n",
      "WARNING: exception at age_parity_stats 21 33Final population size: 875. \n",
      "33 Run finished for \"Default\" after 3.4 s18\n",
      "\n",
      "WARNING: exception at age_parity_stats 22 33 33 18\n",
      "WARNING: exception at age_parity_stats 23 33 33 18\n",
      "WARNING: exception at age_parity_stats 24 33 33 18\n",
      "WARNING: exception at age_parity_stats 25 33 33 18\n",
      "WARNING: exception at age_parity_stats 26 33 33 18\n",
      "WARNING: exception at age_parity_stats 27 33 33 18\n",
      "WARNING: exception at age_parity_stats 28 33 33 18\n",
      "WARNING: exception at age_parity_stats 29 "
     ]
    },
    {
     "name": "stderr",
     "output_type": "stream",
     "text": [
      "\u001b[32m[I 2021-07-16 19:18:54,808]\u001b[0m Trial 20 finished with value: 103.64596381933566 and parameters: {'exposure_correction': 1.0224516010614928, 'fecundity_variation_low': 0.8474229294041589, 'fecundity_variation_high': 1.72867281097832, 'maternal_mortality_multiplier': 1.7946761563512483, 'abortion_prob': 0.04018025068529835}. Best is trial 0 with value: 42.122863284173675.\u001b[0m\n"
     ]
    },
    {
     "name": "stdout",
     "output_type": "stream",
     "text": [
      "33 33 18\n",
      "WARNING: exception at age_parity_stats 30 33 33 18\n",
      "WARNING: exception at age_parity_stats 31 33 33 18\n",
      "WARNING: exception at age_parity_stats 32 33 33 18\n",
      "Final population size: 635.\n",
      "Run finished for \"Default\" after 3.4 s\n",
      "Final population size: 386."
     ]
    },
    {
     "name": "stderr",
     "output_type": "stream",
     "text": [
      "\u001b[32m[I 2021-07-16 19:18:54,939]\u001b[0m Trial 15 finished with value: 78.69988946477925 and parameters: {'exposure_correction': 1.0672910381672387, 'fecundity_variation_low': 0.13429699689581778, 'fecundity_variation_high': 1.224476141821689, 'maternal_mortality_multiplier': 1.6099634718047382, 'abortion_prob': 0.04715065010808967}. Best is trial 0 with value: 42.122863284173675.\u001b[0m\n"
     ]
    },
    {
     "name": "stdout",
     "output_type": "stream",
     "text": [
      "\n",
      "Run finished for \"Default\" after 3.1 s\n"
     ]
    },
    {
     "name": "stderr",
     "output_type": "stream",
     "text": [
      "\u001b[32m[I 2021-07-16 19:18:54,986]\u001b[0m Trial 14 finished with value: 62.129657780476556 and parameters: {'exposure_correction': 1.07293843706152, 'fecundity_variation_low': 0.39531199413803797, 'fecundity_variation_high': 1.8296077230126309, 'maternal_mortality_multiplier': 1.0200494282687673, 'abortion_prob': 0.09622250630349906}. Best is trial 0 with value: 42.122863284173675.\u001b[0m\n"
     ]
    },
    {
     "name": "stdout",
     "output_type": "stream",
     "text": [
      "Final population size: 1217.\n",
      "Run finished for \"Default\" after 4.1 s\n"
     ]
    },
    {
     "name": "stderr",
     "output_type": "stream",
     "text": [
      "\u001b[32m[I 2021-07-16 19:18:55,159]\u001b[0m Trial 19 finished with value: 49.61699014542934 and parameters: {'exposure_correction': 1.004520688663107, 'fecundity_variation_low': 0.4283953069192886, 'fecundity_variation_high': 1.5889933562407514, 'maternal_mortality_multiplier': 2.4282483864207287, 'abortion_prob': 0.0402452147720707}. Best is trial 0 with value: 42.122863284173675.\u001b[0m\n",
      "\u001b[32m[I 2021-07-16 19:18:55,168]\u001b[0m Trial 16 finished with value: 45.64301948311478 and parameters: {'exposure_correction': 1.0602025447702195, 'fecundity_variation_low': 0.3063127387281628, 'fecundity_variation_high': 1.3172307600823157, 'maternal_mortality_multiplier': 1.5018254583281925, 'abortion_prob': 0.03239494530575344}. Best is trial 0 with value: 42.122863284173675.\u001b[0m\n"
     ]
    },
    {
     "name": "stdout",
     "output_type": "stream",
     "text": [
      "Final population size: 521.\n",
      "Run finished for \"Default\" after 3.2 s\n",
      "Final population size: 386.\n",
      "Run finished for \"Default\" after 3.0 s\n"
     ]
    },
    {
     "name": "stderr",
     "output_type": "stream",
     "text": [
      "\u001b[32m[I 2021-07-16 19:18:55,398]\u001b[0m Trial 23 finished with value: 76.52909750749677 and parameters: {'exposure_correction': 0.9105091568281998, 'fecundity_variation_low': 0.5675874933207278, 'fecundity_variation_high': 1.8776528672476092, 'maternal_mortality_multiplier': 1.0237064017231465, 'abortion_prob': 0.02514615234884482}. Best is trial 0 with value: 42.122863284173675.\u001b[0m\n"
     ]
    },
    {
     "name": "stdout",
     "output_type": "stream",
     "text": [
      "WARNING: exception at age_parity_stats 30 33 33 30\n",
      "WARNING: exception at age_parity_stats 31 33 33 30\n",
      "WARNING: exception at age_parity_stats 32 33 33 30\n",
      "Final population size: 478.\n",
      "Run finished for \"Default\" after 3.7 s\n"
     ]
    },
    {
     "name": "stderr",
     "output_type": "stream",
     "text": [
      "\u001b[32m[I 2021-07-16 19:18:55,676]\u001b[0m Trial 9 finished with value: 53.94311886221726 and parameters: {'exposure_correction': 0.9579228048264535, 'fecundity_variation_low': 0.7507851101744542, 'fecundity_variation_high': 1.122816858440636, 'maternal_mortality_multiplier': 1.744212926628574, 'abortion_prob': 0.060530105015427174}. Best is trial 0 with value: 42.122863284173675.\u001b[0m\n",
      "\u001b[32m[I 2021-07-16 19:18:55,682]\u001b[0m Trial 13 finished with value: 45.55197783171236 and parameters: {'exposure_correction': 1.047391116710394, 'fecundity_variation_low': 0.5303495432440509, 'fecundity_variation_high': 1.4143786651473855, 'maternal_mortality_multiplier': 1.3264465606494409, 'abortion_prob': 0.020653026010356904}. Best is trial 0 with value: 42.122863284173675.\u001b[0m\n"
     ]
    },
    {
     "name": "stdout",
     "output_type": "stream",
     "text": [
      "WARNING: exception at age_parity_stats 30 33 33 30\n",
      "WARNING: exception at age_parity_stats 31 33 33 30\n",
      "WARNING: exception at age_parity_stats 32 33 33 30\n"
     ]
    },
    {
     "name": "stderr",
     "output_type": "stream",
     "text": [
      "\u001b[32m[I 2021-07-16 19:18:55,834]\u001b[0m Trial 28 finished with value: 47.60126935933954 and parameters: {'exposure_correction': 0.9056877322122444, 'fecundity_variation_low': 0.8932396183952686, 'fecundity_variation_high': 1.3342826204592815, 'maternal_mortality_multiplier': 1.9253894574585568, 'abortion_prob': 0.08969335790688522}. Best is trial 0 with value: 42.122863284173675.\u001b[0m\n"
     ]
    },
    {
     "name": "stdout",
     "output_type": "stream",
     "text": [
      "Final population size: 1874.\n",
      "Run finished for \"Default\" after 4.7 s\n"
     ]
    },
    {
     "name": "stderr",
     "output_type": "stream",
     "text": [
      "\u001b[32m[I 2021-07-16 19:18:56,261]\u001b[0m Trial 27 finished with value: 116.40595412391816 and parameters: {'exposure_correction': 0.9589167882578828, 'fecundity_variation_low': 0.7890237623832911, 'fecundity_variation_high': 1.8561025987669062, 'maternal_mortality_multiplier': 1.0596958118776656, 'abortion_prob': 0.043522464673035374}. Best is trial 0 with value: 42.122863284173675.\u001b[0m\n"
     ]
    },
    {
     "name": "stdout",
     "output_type": "stream",
     "text": [
      "Final population size: 636.\n",
      "Run finished for \"Default\" after 4.6 s\n"
     ]
    },
    {
     "name": "stderr",
     "output_type": "stream",
     "text": [
      "\u001b[32m[I 2021-07-16 19:18:56,586]\u001b[0m Trial 25 finished with value: 53.055474636693006 and parameters: {'exposure_correction': 1.0069789879098303, 'fecundity_variation_low': 0.8361167076864228, 'fecundity_variation_high': 1.3429117254204608, 'maternal_mortality_multiplier': 0.8705240289185739, 'abortion_prob': 0.0355325492065595}. Best is trial 0 with value: 42.122863284173675.\u001b[0m\n"
     ]
    },
    {
     "name": "stdout",
     "output_type": "stream",
     "text": [
      "Final population size: 795.\n",
      "Run finished for \"Default\" after 2.2 s\n",
      "Final population size: 302.\n",
      "Run finished for \"Default\" after 1.8 s\n",
      "Final population size: 726.\n",
      "Run finished for \"Default\" after 2.1 s\n",
      "Final population size: 623.\n",
      "Run finished for \"Default\" after 1.9 s\n",
      "Final population size: 561.\n",
      "Run finished for \"Default\" after 2.0 s\n",
      "Final population size: 1645.\n",
      "Run finished for \"Default\" after 2.2 s\n",
      "Final population size: 745.\n",
      "Run finished for \"Default\" after 1.9 s\n",
      "WARNING: exception at age_parity_stats 27 33 33 "
     ]
    },
    {
     "name": "stderr",
     "output_type": "stream",
     "text": [
      "\u001b[32m[I 2021-07-16 19:18:57,183]\u001b[0m Trial 38 finished with value: 54.94137236163097 and parameters: {'exposure_correction': 1.0465914615652048, 'fecundity_variation_low': 0.4399428436591891, 'fecundity_variation_high': 1.7696191537437003, 'maternal_mortality_multiplier': 2.5752316682160297, 'abortion_prob': 0.07666649212030814}. Best is trial 0 with value: 42.122863284173675.\u001b[0m\n"
     ]
    },
    {
     "name": "stdout",
     "output_type": "stream",
     "text": [
      "27\n",
      "WARNING: exception at age_parity_stats 28 33 33 27\n",
      "WARNING: exception at age_parity_stats 29 33 33 27\n",
      "WARNING: exception at age_parity_stats 30 33 Final population size: 457.33\n",
      " "
     ]
    },
    {
     "name": "stderr",
     "output_type": "stream",
     "text": [
      "\u001b[32m[I 2021-07-16 19:18:57,230]\u001b[0m Trial 59 finished with value: 47.062671276209166 and parameters: {'exposure_correction': 0.9508563706172138, 'fecundity_variation_low': 0.525096019312449, 'fecundity_variation_high': 1.5442747112708735, 'maternal_mortality_multiplier': 2.612219156785609, 'abortion_prob': 0.07641962208447318}. Best is trial 0 with value: 42.122863284173675.\u001b[0m\n"
     ]
    },
    {
     "name": "stdout",
     "output_type": "stream",
     "text": [
      "Run finished for \"Default\" after 1.9 s27\n",
      "\n",
      "WARNING: exception at age_parity_stats 31 33 33 27\n",
      "WARNING: exception at age_parity_stats 32 33 33 27\n",
      "Final population size: 712.\n",
      "Run finished for \"Default\" after 1.9 s\n",
      "Final population size: 531."
     ]
    },
    {
     "name": "stderr",
     "output_type": "stream",
     "text": [
      "\u001b[32m[I 2021-07-16 19:18:57,290]\u001b[0m Trial 34 finished with value: 44.70456523563354 and parameters: {'exposure_correction': 0.9078316042919091, 'fecundity_variation_low': 0.16836585227654294, 'fecundity_variation_high': 1.5338207164586575, 'maternal_mortality_multiplier': 2.642754913680824, 'abortion_prob': 0.07866625561310224}. Best is trial 0 with value: 42.122863284173675.\u001b[0m\n"
     ]
    },
    {
     "name": "stdout",
     "output_type": "stream",
     "text": [
      "\n",
      "Run finished for \"Default\" after 1.9 s\n",
      "Final population size: 454.Final population size: 791."
     ]
    },
    {
     "name": "stderr",
     "output_type": "stream",
     "text": [
      "\u001b[32m[I 2021-07-16 19:18:57,315]\u001b[0m Trial 35 finished with value: 49.87287260591945 and parameters: {'exposure_correction': 1.0783627868029242, 'fecundity_variation_low': 0.201029389189032, 'fecundity_variation_high': 1.7690154731737882, 'maternal_mortality_multiplier': 2.5899136527941913, 'abortion_prob': 0.07883050337483453}. Best is trial 0 with value: 42.122863284173675.\u001b[0m\n"
     ]
    },
    {
     "name": "stdout",
     "output_type": "stream",
     "text": [
      "\n",
      "\n",
      "Run finished for \"Default\" after 1.9 sRun finished for \"Default\" after 2.0 s\n",
      "\n"
     ]
    },
    {
     "name": "stderr",
     "output_type": "stream",
     "text": [
      "\u001b[32m[I 2021-07-16 19:18:57,319]\u001b[0m Trial 31 finished with value: 59.64943495215738 and parameters: {'exposure_correction': 1.0378298853691992, 'fecundity_variation_low': 0.36772722562480686, 'fecundity_variation_high': 1.20639893404805, 'maternal_mortality_multiplier': 1.8371814334918153, 'abortion_prob': 0.08881918320689185}. Best is trial 0 with value: 42.122863284173675.\u001b[0m\n"
     ]
    },
    {
     "name": "stdout",
     "output_type": "stream",
     "text": [
      "Final population size: 406.\n",
      "Final population size: 741.\n",
      "Run finished for \"Default\" after 1.8 sRun finished for \"Default\" after 2.4 s\n",
      "\n"
     ]
    },
    {
     "name": "stderr",
     "output_type": "stream",
     "text": [
      "\u001b[32m[I 2021-07-16 19:18:57,348]\u001b[0m Trial 33 finished with value: 54.41918508679529 and parameters: {'exposure_correction': 0.9823305061338717, 'fecundity_variation_low': 0.33156144525693565, 'fecundity_variation_high': 1.6034102262010064, 'maternal_mortality_multiplier': 2.656322751028047, 'abortion_prob': 0.0748827757021646}. Best is trial 0 with value: 42.122863284173675.\u001b[0m\n"
     ]
    },
    {
     "name": "stdout",
     "output_type": "stream",
     "text": [
      "Final population size: 379.\n",
      "Run finished for \"Default\" after 1.9 s\n",
      "Final population size: 631.\n",
      "Run finished for \"Default\" after 2.0 s\n"
     ]
    },
    {
     "name": "stderr",
     "output_type": "stream",
     "text": [
      "\u001b[32m[I 2021-07-16 19:18:57,395]\u001b[0m Trial 57 finished with value: 43.36859452208302 and parameters: {'exposure_correction': 0.9627395952837682, 'fecundity_variation_low': 0.2036929756683696, 'fecundity_variation_high': 1.5319775125442154, 'maternal_mortality_multiplier': 2.731538164821002, 'abortion_prob': 0.07862614478658111}. Best is trial 0 with value: 42.122863284173675.\u001b[0m\n"
     ]
    },
    {
     "name": "stdout",
     "output_type": "stream",
     "text": [
      "WARNING: exception at age_parity_stats Final population size: 587.30\n",
      " Run finished for \"Default\" after 1.9 s\n",
      "33 33 30\n",
      "WARNING: exception at age_parity_stats 31 33 33 "
     ]
    },
    {
     "name": "stderr",
     "output_type": "stream",
     "text": [
      "\u001b[32m[I 2021-07-16 19:18:57,435]\u001b[0m Trial 40 finished with value: 104.98955262383534 and parameters: {'exposure_correction': 1.0660292043800337, 'fecundity_variation_low': 0.8411501824506237, 'fecundity_variation_high': 1.8138626727360585, 'maternal_mortality_multiplier': 2.5924714272043015, 'abortion_prob': 0.08122372205148552}. Best is trial 0 with value: 42.122863284173675.\u001b[0m\n"
     ]
    },
    {
     "name": "stdout",
     "output_type": "stream",
     "text": [
      "30\n",
      "WARNING: exception at age_parity_stats 32 33 33 30\n",
      "Final population size: 528.\n",
      "Run finished for \"Default\" after 1.9 s\n"
     ]
    },
    {
     "name": "stderr",
     "output_type": "stream",
     "text": [
      "\u001b[32m[I 2021-07-16 19:18:57,480]\u001b[0m Trial 36 finished with value: 51.41638722079096 and parameters: {'exposure_correction': 0.9206698646680066, 'fecundity_variation_low': 0.61043445086318, 'fecundity_variation_high': 1.544027533685654, 'maternal_mortality_multiplier': 2.708098995171704, 'abortion_prob': 0.07726240020851348}. Best is trial 0 with value: 42.122863284173675.\u001b[0m\n",
      "\u001b[32m[I 2021-07-16 19:18:57,484]\u001b[0m Trial 22 finished with value: 42.4354347620329 and parameters: {'exposure_correction': 1.0780561741451196, 'fecundity_variation_low': 0.10812044858491304, 'fecundity_variation_high': 1.4895657521254368, 'maternal_mortality_multiplier': 2.328296879287799, 'abortion_prob': 0.0625909333981255}. Best is trial 0 with value: 42.122863284173675.\u001b[0m\n",
      "\u001b[32m[I 2021-07-16 19:18:57,495]\u001b[0m Trial 41 finished with value: 54.21519274250402 and parameters: {'exposure_correction': 0.9643982670908976, 'fecundity_variation_low': 0.5556214137757036, 'fecundity_variation_high': 1.5605141906462527, 'maternal_mortality_multiplier': 2.5707712710783253, 'abortion_prob': 0.07787483502204891}. Best is trial 0 with value: 40.958009007608695.\u001b[0m\n",
      "\u001b[32m[I 2021-07-16 19:18:57,498]\u001b[0m Trial 56 finished with value: 43.70585184621185 and parameters: {'exposure_correction': 0.9890344184180715, 'fecundity_variation_low': 0.23243606198022246, 'fecundity_variation_high': 1.493242622055656, 'maternal_mortality_multiplier': 2.679195321824993, 'abortion_prob': 0.07573715689447774}. Best is trial 0 with value: 40.958009007608695.\u001b[0m\n",
      "\u001b[32m[I 2021-07-16 19:18:57,517]\u001b[0m Trial 30 finished with value: 61.07724412038126 and parameters: {'exposure_correction': 1.042810038278007, 'fecundity_variation_low': 0.46295337660585045, 'fecundity_variation_high': 1.6281925432925186, 'maternal_mortality_multiplier': 2.838389315134721, 'abortion_prob': 0.03828792393358902}. Best is trial 51 with value: 40.958009007608695.\u001b[0m\n",
      "\u001b[32m[I 2021-07-16 19:18:57,520]\u001b[0m Trial 51 finished with value: 40.958009007608695 and parameters: {'exposure_correction': 1.09129287634635, 'fecundity_variation_low': 0.8273847718878805, 'fecundity_variation_high': 1.2558268878530756, 'maternal_mortality_multiplier': 2.597108720999797, 'abortion_prob': 0.08382222747778471}. Best is trial 51 with value: 40.958009007608695.\u001b[0m\n"
     ]
    },
    {
     "name": "stdout",
     "output_type": "stream",
     "text": [
      "Final population size: 420.\n",
      "Run finished for \"Default\" after 2.0 s\n",
      "Final population size: 249.\n",
      "Run finished for \"Default\" after 2.3 s\n"
     ]
    },
    {
     "name": "stderr",
     "output_type": "stream",
     "text": [
      "\u001b[32m[I 2021-07-16 19:18:57,544]\u001b[0m Trial 58 finished with value: 45.42339089316033 and parameters: {'exposure_correction': 1.0139575466870645, 'fecundity_variation_low': 0.5454933023035812, 'fecundity_variation_high': 1.5312025399468514, 'maternal_mortality_multiplier': 2.6713909460592533, 'abortion_prob': 0.07907220362877299}. Best is trial 51 with value: 40.958009007608695.\u001b[0m\n",
      "\u001b[32m[I 2021-07-16 19:18:57,568]\u001b[0m Trial 26 finished with value: 47.02514250772615 and parameters: {'exposure_correction': 1.0852135523124815, 'fecundity_variation_low': 0.31826106120084596, 'fecundity_variation_high': 1.6319959363172423, 'maternal_mortality_multiplier': 2.4770768531717575, 'abortion_prob': 0.07366424766043372}. Best is trial 51 with value: 40.958009007608695.\u001b[0m\n"
     ]
    },
    {
     "name": "stdout",
     "output_type": "stream",
     "text": [
      "Final population size: 381.\n"
     ]
    },
    {
     "name": "stderr",
     "output_type": "stream",
     "text": [
      "\u001b[32m[I 2021-07-16 19:18:57,581]\u001b[0m Trial 37 finished with value: 49.049324232373536 and parameters: {'exposure_correction': 0.9688555048285025, 'fecundity_variation_low': 0.14154056946485918, 'fecundity_variation_high': 1.5295323332310993, 'maternal_mortality_multiplier': 2.921021692161328, 'abortion_prob': 0.06553348237116227}. Best is trial 51 with value: 40.958009007608695.\u001b[0m\n"
     ]
    },
    {
     "name": "stdout",
     "output_type": "stream",
     "text": [
      "Run finished for \"Default\" after 1.8 s\n"
     ]
    },
    {
     "name": "stderr",
     "output_type": "stream",
     "text": [
      "\u001b[32m[I 2021-07-16 19:18:57,610]\u001b[0m Trial 48 finished with value: 43.272702555458125 and parameters: {'exposure_correction': 1.0650609142898873, 'fecundity_variation_low': 0.4403314368000327, 'fecundity_variation_high': 1.4815948998600088, 'maternal_mortality_multiplier': 2.6401482843001776, 'abortion_prob': 0.07864794113516965}. Best is trial 51 with value: 40.958009007608695.\u001b[0m\n"
     ]
    },
    {
     "name": "stdout",
     "output_type": "stream",
     "text": [
      "Final population size: 1112.\n",
      "Run finished for \"Default\" after 2.8 s\n",
      "WARNING: exception at age_parity_stats 27 33 33 27\n",
      "WARNING: exception at age_parity_stats 28 33 33 27\n",
      "WARNING: exception at age_parity_stats 29"
     ]
    },
    {
     "name": "stderr",
     "output_type": "stream",
     "text": [
      "\u001b[32m[I 2021-07-16 19:18:57,693]\u001b[0m Trial 42 finished with value: 46.43656208206511 and parameters: {'exposure_correction': 0.9001870486014395, 'fecundity_variation_low': 0.2822385022108387, 'fecundity_variation_high': 1.500652944096928, 'maternal_mortality_multiplier': 2.6189500527870213, 'abortion_prob': 0.08145840266120374}. Best is trial 51 with value: 40.958009007608695.\u001b[0m\n"
     ]
    },
    {
     "name": "stdout",
     "output_type": "stream",
     "text": [
      " 33 33 27\n",
      "WARNING: exception at age_parity_stats 30 33 33 27\n",
      "WARNING: exception at age_parity_stats 31 33 33 27\n",
      "WARNING: exception at age_parity_stats 32 33 33 27\n"
     ]
    },
    {
     "name": "stderr",
     "output_type": "stream",
     "text": [
      "\u001b[32m[I 2021-07-16 19:18:57,742]\u001b[0m Trial 47 finished with value: 50.586341724987726 and parameters: {'exposure_correction': 0.9393726057808058, 'fecundity_variation_low': 0.48006346223810803, 'fecundity_variation_high': 1.3868147810078681, 'maternal_mortality_multiplier': 2.465765481703203, 'abortion_prob': 0.07863603337090057}. Best is trial 51 with value: 40.958009007608695.\u001b[0m\n",
      "\u001b[32m[I 2021-07-16 19:18:57,760]\u001b[0m Trial 43 finished with value: 57.84826068948924 and parameters: {'exposure_correction': 1.0591315124146887, 'fecundity_variation_low': 0.2673360282162349, 'fecundity_variation_high': 1.1597654321346438, 'maternal_mortality_multiplier': 1.297439712105851, 'abortion_prob': 0.08200106926554458}. Best is trial 51 with value: 40.958009007608695.\u001b[0m\n"
     ]
    },
    {
     "name": "stdout",
     "output_type": "stream",
     "text": [
      "Final population size: 1422.\n",
      "Run finished for \"Default\" after 2.0 s\n",
      "Final population size: 269.\n",
      "Run finished for \"Default\" after 2.1 s\n",
      "Final population size: 284."
     ]
    },
    {
     "name": "stderr",
     "output_type": "stream",
     "text": [
      "\u001b[32m[I 2021-07-16 19:18:57,824]\u001b[0m Trial 39 finished with value: 76.64991308566294 and parameters: {'exposure_correction': 0.902820542537164, 'fecundity_variation_low': 0.8083529134350785, 'fecundity_variation_high': 1.786013119846652, 'maternal_mortality_multiplier': 2.5991214941333376, 'abortion_prob': 0.017509179803249383}. Best is trial 51 with value: 40.958009007608695.\u001b[0m\n"
     ]
    },
    {
     "name": "stdout",
     "output_type": "stream",
     "text": [
      "\n",
      "Run finished for \"Default\" after 2.2 s\n",
      "Final population size: 405.\n",
      "Run finished for \"Default\" after 2.3 s\n",
      "Final population size: 716.\n",
      "Run finished for \"Default\" after 2.1 s\n",
      "Final population size: 615.\n",
      "Run finished for \"Default\" after 2.1 s\n",
      "WARNING: exception at age_parity_stats 27 33 33 27Final population size: 1279.\n",
      "WARNING: exception at\n",
      " Run finished for \"Default\" after 2.3 sage_parity_stats\n",
      " 28 33 33 27\n",
      "WARNING: exception at age_parity_stats 29 33 Final population size: 630.33 \n",
      "27Run finished for \"Default\" after 2.1 s\n",
      "\n",
      "WARNING: exception at age_parity_stats 30 WARNING: exception at33  age_parity_stats33  2427 \n",
      "33WARNING: exception at  33age_parity_stats  2431\n",
      " WARNING: exception at age_parity_stats 3325  3333  2733\n",
      " WARNING: exception at24 \n",
      "age_parity_statsWARNING: exception at  32age_parity_stats  3326"
     ]
    },
    {
     "name": "stderr",
     "output_type": "stream",
     "text": [
      "\u001b[32m[I 2021-07-16 19:18:57,937]\u001b[0m Trial 55 finished with value: 90.8189414568924 and parameters: {'exposure_correction': 0.9244746471163767, 'fecundity_variation_low': 0.8566868943845908, 'fecundity_variation_high': 1.837045238373943, 'maternal_mortality_multiplier': 2.230010811892961, 'abortion_prob': 0.08117223593648287}. Best is trial 51 with value: 40.958009007608695.\u001b[0m\n"
     ]
    },
    {
     "name": "stdout",
     "output_type": "stream",
     "text": [
      "  3333 33  2724\n",
      "\n",
      "WARNING: exception at age_parity_stats 27 33 33 24\n",
      "Final population size: 1349.WARNING: exception at\n",
      " Run finished for \"Default\" after 2.3 sage_parity_stats\n",
      " 28 33 33 24\n",
      "WARNING: exception at age_parity_stats 29 33 33 24\n"
     ]
    },
    {
     "name": "stderr",
     "output_type": "stream",
     "text": [
      "\u001b[32m[I 2021-07-16 19:18:57,971]\u001b[0m Trial 5 finished with value: 58.94900281057809 and parameters: {'exposure_correction': 1.0935068090329167, 'fecundity_variation_low': 0.21025010153049398, 'fecundity_variation_high': 1.1959717362748064, 'maternal_mortality_multiplier': 2.229035341019502, 'abortion_prob': 0.08790958670492345}. Best is trial 51 with value: 40.958009007608695.\u001b[0m\n"
     ]
    },
    {
     "name": "stdout",
     "output_type": "stream",
     "text": [
      "WARNING: exception at age_parity_stats 30 33 33 24\n",
      "WARNING: exception at age_parity_stats 31 33 33 24\n",
      "WARNING: exception at age_parity_stats 32 33 33 24"
     ]
    },
    {
     "name": "stderr",
     "output_type": "stream",
     "text": [
      "\u001b[32m[I 2021-07-16 19:18:58,001]\u001b[0m Trial 46 finished with value: 52.246935319907294 and parameters: {'exposure_correction': 0.9465284097948236, 'fecundity_variation_low': 0.74955972054578, 'fecundity_variation_high': 1.251424411708153, 'maternal_mortality_multiplier': 1.062968681432678, 'abortion_prob': 0.07992554598595705}. Best is trial 51 with value: 40.958009007608695.\u001b[0m\n"
     ]
    },
    {
     "name": "stdout",
     "output_type": "stream",
     "text": [
      "\n"
     ]
    },
    {
     "name": "stderr",
     "output_type": "stream",
     "text": [
      "\u001b[32m[I 2021-07-16 19:18:58,035]\u001b[0m Trial 50 finished with value: 65.04381059331479 and parameters: {'exposure_correction': 1.05681801350559, 'fecundity_variation_low': 0.3677311241656439, 'fecundity_variation_high': 1.1321578669350238, 'maternal_mortality_multiplier': 2.8823227819508266, 'abortion_prob': 0.08151415612786135}. Best is trial 51 with value: 40.958009007608695.\u001b[0m\n",
      "\u001b[32m[I 2021-07-16 19:18:58,046]\u001b[0m Trial 45 finished with value: 49.64061180642658 and parameters: {'exposure_correction': 0.9305459221621438, 'fecundity_variation_low': 0.20227343219379154, 'fecundity_variation_high': 1.6453463030950357, 'maternal_mortality_multiplier': 1.4909904894051567, 'abortion_prob': 0.07994747009305497}. Best is trial 51 with value: 40.958009007608695.\u001b[0m\n",
      "\u001b[32m[I 2021-07-16 19:18:58,049]\u001b[0m Trial 61 finished with value: 54.436732336717526 and parameters: {'exposure_correction': 0.923079192740417, 'fecundity_variation_low': 0.42843908296345656, 'fecundity_variation_high': 1.6057277788673119, 'maternal_mortality_multiplier': 0.8198989260237664, 'abortion_prob': 0.0801795528452827}. Best is trial 51 with value: 40.958009007608695.\u001b[0m\n",
      "\u001b[32m[I 2021-07-16 19:18:58,053]\u001b[0m Trial 32 finished with value: 47.42674975059323 and parameters: {'exposure_correction': 1.0007449739348315, 'fecundity_variation_low': 0.6174721443738656, 'fecundity_variation_high': 1.5127253335491322, 'maternal_mortality_multiplier': 2.6568146624013886, 'abortion_prob': 0.07820219190725472}. Best is trial 51 with value: 40.958009007608695.\u001b[0m\n"
     ]
    },
    {
     "name": "stdout",
     "output_type": "stream",
     "text": [
      "Final population size: 767.\n",
      "Run finished for \"Default\" after 2.2 s\n"
     ]
    },
    {
     "name": "stderr",
     "output_type": "stream",
     "text": [
      "\u001b[32m[I 2021-07-16 19:18:58,088]\u001b[0m Trial 52 finished with value: 82.82353413350253 and parameters: {'exposure_correction': 1.0126659184171034, 'fecundity_variation_low': 0.6375912709218456, 'fecundity_variation_high': 1.7566830940725404, 'maternal_mortality_multiplier': 2.2740855443532304, 'abortion_prob': 0.08393778233507601}. Best is trial 51 with value: 40.958009007608695.\u001b[0m\n",
      "\u001b[32m[I 2021-07-16 19:18:58,124]\u001b[0m Trial 53 finished with value: 83.78738234087675 and parameters: {'exposure_correction': 0.9825586886345702, 'fecundity_variation_low': 0.7962058263790978, 'fecundity_variation_high': 1.6627227976249654, 'maternal_mortality_multiplier': 2.7856793693168695, 'abortion_prob': 0.08192732876542685}. Best is trial 51 with value: 40.958009007608695.\u001b[0m\n"
     ]
    },
    {
     "name": "stdout",
     "output_type": "stream",
     "text": [
      "Final population size: 418.\n",
      "Run finished for \"Default\" after 2.4 s\n",
      "Final population size: 422.\n",
      "Run finished for \"Default\" after 2.6 s\n",
      "Final population size: 321.\n",
      "Run finished for \"Default\" after 2.3 s\n"
     ]
    },
    {
     "name": "stderr",
     "output_type": "stream",
     "text": [
      "\u001b[32m[I 2021-07-16 19:18:58,217]\u001b[0m Trial 62 finished with value: 53.941402111805004 and parameters: {'exposure_correction': 1.022571810329689, 'fecundity_variation_low': 0.6430201635684358, 'fecundity_variation_high': 1.5494035834279434, 'maternal_mortality_multiplier': 2.6501572497005537, 'abortion_prob': 0.08168969634246498}. Best is trial 51 with value: 40.958009007608695.\u001b[0m\n"
     ]
    },
    {
     "name": "stdout",
     "output_type": "stream",
     "text": [
      "Final population size: 432.\n",
      "Run finished for \"Default\" after 2.3 s\n",
      "Final population size: 606.\n",
      "Run finished for \"Default\" after 2.6 s\n"
     ]
    },
    {
     "name": "stderr",
     "output_type": "stream",
     "text": [
      "\u001b[32m[I 2021-07-16 19:18:58,276]\u001b[0m Trial 60 finished with value: 44.12068400028853 and parameters: {'exposure_correction': 0.967674171523296, 'fecundity_variation_low': 0.2224326705240891, 'fecundity_variation_high': 1.499944098535066, 'maternal_mortality_multiplier': 2.7040753853245363, 'abortion_prob': 0.08160908295602273}. Best is trial 51 with value: 40.958009007608695.\u001b[0m\n"
     ]
    },
    {
     "name": "stdout",
     "output_type": "stream",
     "text": [
      "WARNING: exception at age_parity_stats 30 33 33 30\n",
      "WARNING: exception at age_parity_stats 31 33 33 30\n",
      "WARNING: exception at age_parity_stats 32 33"
     ]
    },
    {
     "name": "stderr",
     "output_type": "stream",
     "text": [
      "\u001b[32m[I 2021-07-16 19:18:58,312]\u001b[0m Trial 44 finished with value: 48.54279203584596 and parameters: {'exposure_correction': 1.0119229802988905, 'fecundity_variation_low': 0.5018965049895348, 'fecundity_variation_high': 1.3337327445526526, 'maternal_mortality_multiplier': 1.4045209576186766, 'abortion_prob': 0.08015910805479128}. Best is trial 51 with value: 40.958009007608695.\u001b[0m\n"
     ]
    },
    {
     "name": "stdout",
     "output_type": "stream",
     "text": [
      " 33 30\n"
     ]
    },
    {
     "name": "stderr",
     "output_type": "stream",
     "text": [
      "\u001b[32m[I 2021-07-16 19:18:58,351]\u001b[0m Trial 63 finished with value: 42.93964742378518 and parameters: {'exposure_correction': 1.017746684019404, 'fecundity_variation_low': 0.23002218939323518, 'fecundity_variation_high': 1.5013197620080467, 'maternal_mortality_multiplier': 2.6753302175817497, 'abortion_prob': 0.08295314021154339}. Best is trial 51 with value: 40.958009007608695.\u001b[0m\n",
      "\u001b[32m[I 2021-07-16 19:18:58,358]\u001b[0m Trial 54 finished with value: 54.51306155815405 and parameters: {'exposure_correction': 0.9596954661615223, 'fecundity_variation_low': 0.14776020916325489, 'fecundity_variation_high': 1.5184458924653728, 'maternal_mortality_multiplier': 2.6798656788972988, 'abortion_prob': 0.08204662042890766}. Best is trial 51 with value: 40.958009007608695.\u001b[0m\n",
      "\u001b[32m[I 2021-07-16 19:18:58,364]\u001b[0m Trial 49 finished with value: 47.39730835366551 and parameters: {'exposure_correction': 0.953831488351378, 'fecundity_variation_low': 0.15140316397610099, 'fecundity_variation_high': 1.722668477955962, 'maternal_mortality_multiplier': 1.1673774015301073, 'abortion_prob': 0.08145860490308085}. Best is trial 51 with value: 40.958009007608695.\u001b[0m\n"
     ]
    },
    {
     "name": "stdout",
     "output_type": "stream",
     "text": [
      "Output: {'abortion_prob': 0.08382222747778471, 'exposure_correction': 1.09129287634635, 'fecundity_variation_high': 1.2558268878530756, 'fecundity_variation_low': 0.8273847718878805, 'maternal_mortality_multiplier': 2.597108720999797}, time: 10.639110803604126\n",
      "Final population size: 404.\n",
      "Run finished for \"Default\" after 1.4 s\n",
      "Final population size: 531.\n",
      "Run finished for \"Default\" after 1.4 s\n",
      "WARNING: exception at age_parity_stats 30 33 33 30\n",
      "WARNING: exception at age_parity_stats 31 33 33 30\n",
      "WARNING: exception at age_parity_stats 32 33 33 30\n",
      "Making results structure...\n",
      "Processed 64 trials; 0 failed\n",
      "Initial parameter values:\n",
      "{'exposure_correction': 1.0, 'fecundity_variation_low': 0.4, 'fecundity_variation_high': 1.4, 'maternal_mortality_multiplier': 1.0, 'abortion_prob': 0.086}\n",
      "Best parameter values:\n",
      "{'abortion_prob': 0.08382222747778471, 'exposure_correction': 1.09129287634635, 'fecundity_variation_high': 1.2558268878530756, 'fecundity_variation_low': 0.8273847718878805, 'maternal_mortality_multiplier': 2.597108720999797}\n",
      "Mismatch before calibration: 44.9848\n",
      "Mismatch after calibration:  40.958\n",
      "Percent improvement:         9.0%\n"
     ]
    },
    {
     "data": {
      "application/vnd.jupyter.widget-view+json": {
       "model_id": "2ea01795fe104cd69b93811f525f538b",
       "version_major": 2,
       "version_minor": 0
      },
      "text/plain": [
       "Canvas(toolbar=Toolbar(toolitems=[('Home', 'Reset original view', 'home', 'home'), ('Back', 'Back to previous …"
      ]
     },
     "metadata": {},
     "output_type": "display_data"
    },
    {
     "name": "stdout",
     "output_type": "stream",
     "text": [
      "Warning: maximizing the figure failed because: \"The maximize() function is not supported for the backend \"module://ipympl.backend_nbagg\"; use Qt5Agg if possible\"\n"
     ]
    },
    {
     "name": "stderr",
     "output_type": "stream",
     "text": [
      "/home/fpguest/fp_analyses/fpsim/experiment.py:780: MatplotlibDeprecationWarning: normalize=None does not normalize if the sum is less than 1 but this behavior is deprecated since 3.3 until two minor releases later. After the deprecation period the default value will be normalize=True. To prevent normalization pass normalize=False \n",
      "  ax.pie(sim.method_counts[:], labels=method_labels)\n"
     ]
    },
    {
     "data": {
      "application/vnd.jupyter.widget-view+json": {
       "model_id": "4367dfc23ac14c5d9ba1554bff1f1a95",
       "version_major": 2,
       "version_minor": 0
      },
      "text/plain": [
       "Canvas(toolbar=Toolbar(toolitems=[('Home', 'Reset original view', 'home', 'home'), ('Back', 'Back to previous …"
      ]
     },
     "metadata": {},
     "output_type": "display_data"
    },
    {
     "name": "stdout",
     "output_type": "stream",
     "text": [
      "Warning: maximizing the figure failed because: \"The maximize() function is not supported for the backend \"module://ipympl.backend_nbagg\"; use Qt5Agg if possible\"\n"
     ]
    },
    {
     "data": {
      "application/vnd.jupyter.widget-view+json": {
       "model_id": "42bc371a98fc4cb18d3599d053965819",
       "version_major": 2,
       "version_minor": 0
      },
      "text/plain": [
       "Canvas(toolbar=Toolbar(toolitems=[('Home', 'Reset original view', 'home', 'home'), ('Back', 'Back to previous …"
      ]
     },
     "metadata": {},
     "output_type": "display_data"
    },
    {
     "data": {
      "application/vnd.jupyter.widget-view+json": {
       "model_id": "c564471c958a4b63a443731d808d1f27",
       "version_major": 2,
       "version_minor": 0
      },
      "text/plain": [
       "Canvas(toolbar=Toolbar(toolitems=[('Home', 'Reset original view', 'home', 'home'), ('Back', 'Back to previous …"
      ]
     },
     "metadata": {},
     "output_type": "display_data"
    },
    {
     "name": "stdout",
     "output_type": "stream",
     "text": [
      "\n",
      "\n",
      "\n",
      "Elapsed time: 17.0 s\n",
      "Done.\n"
     ]
    }
   ],
   "source": [
    "\"\"\"\n",
    "Run tests on the calibration object.\n",
    "\"\"\"\n",
    "\n",
    "%matplotlib widget\n",
    "\n",
    "import sciris as sc\n",
    "import fpsim as fp\n",
    "import fp_analyses as fa\n",
    "import pylab as pl\n",
    "\n",
    "pl.rc('figure', dpi=50) # Make fonts much smaller\n",
    "\n",
    "do_plot = 1\n",
    "total_trials = 50\n",
    "\n",
    "# Set parameters\n",
    "pars = fa.senegal_parameters.make_pars()\n",
    "pars['n'] = 100\n",
    "pars['verbose'] = 0\n",
    "calib = fp.Calibration(pars=pars)\n",
    "\n",
    "calib_pars = dict(\n",
    "    exposure_correction = [1.0, 0.9, 1.1],\n",
    "    fecundity_variation_low = [0.4, 0.1, 0.9],\n",
    "    fecundity_variation_high = [1.4, 1.1, 1.9],\n",
    "    maternal_mortality_multiplier = [1, 0.75, 3.0],\n",
    "    abortion_prob = [0.086, 0.017, 0.1]\n",
    ")\n",
    "\n",
    "weights = dict(\n",
    "    maternal_mortality_ratio = 0.0,\n",
    ")\n",
    "\n",
    "\n",
    "if __name__ == '__main__':\n",
    "\n",
    "    # Start timing and optionally enable interactive plotting\n",
    "    T = sc.tic()\n",
    "\n",
    "    # Calculate calibration\n",
    "    calib.calibrate(calib_pars=calib_pars, total_trials=total_trials, weights=weights)\n",
    "    before,after = calib.summarize()\n",
    "\n",
    "    if do_plot:\n",
    "        calib.before.plot(do_show=False)\n",
    "        calib.after.plot(do_show=False)\n",
    "        calib.before.fit.plot(do_show=False)\n",
    "        calib.after.fit.plot(do_show=False)\n",
    "\n",
    "    # Wrap up\n",
    "    print('\\n'*2)\n",
    "    sc.toc(T)\n",
    "    print('Done.')\n"
   ]
  },
  {
   "cell_type": "code",
   "execution_count": null,
   "id": "9d9b811b-4358-43f8-8cb2-5da3a155fcfb",
   "metadata": {},
   "outputs": [],
   "source": [
    "print('hi')"
   ]
  },
  {
   "cell_type": "code",
   "execution_count": null,
   "id": "6639a4a0-fc8d-44b3-b5e4-0b1922a36e2e",
   "metadata": {},
   "outputs": [],
   "source": []
  }
 ],
 "metadata": {
  "kernelspec": {
   "display_name": "Python 3 (ipykernel)",
   "language": "python",
   "name": "python3"
  },
  "language_info": {
   "codemirror_mode": {
    "name": "ipython",
    "version": 3
   },
   "file_extension": ".py",
   "mimetype": "text/x-python",
   "name": "python",
   "nbconvert_exporter": "python",
   "pygments_lexer": "ipython3",
   "version": "3.8.8"
  }
 },
 "nbformat": 4,
 "nbformat_minor": 5
}
