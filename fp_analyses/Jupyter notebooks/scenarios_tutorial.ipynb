{
 "cells": [
  {
   "cell_type": "markdown",
   "id": "94ebf73d",
   "metadata": {},
   "source": [
    "# FPSim Scenarios\n",
    "\n",
    "We have some interesting family planning scenarios to look at, which are calculated and plotted by FPSim. Here's a quick guide to get our new \"Scenarios\" tool up and running!\n",
    "\n",
    "1. [Introduction](#introduction)\n",
    "2. [Setup](#setup)\n",
    "3. [Efficacy](#efficacy)\n",
    "4. [Switching](#switching)\n",
    "5. [Comparison](#comparison)"
   ]
  },
  {
   "cell_type": "markdown",
   "id": "32dbb21b",
   "metadata": {},
   "source": [
    "## Introduction <a name=\"introduction\"></a>"
   ]
  },
  {
   "cell_type": "markdown",
   "id": "04f52f49",
   "metadata": {},
   "source": [
    "Our family planning model (FPSim) is a useful tool for understanding how demographics, contraceptive efficacy, and contraceptive uptake behaviors interact with one another. We will be going through a couple of scenarios using our \"Scenarios\" api, which makes it easier for researchers to customize and compare the results of family planning interventions."
   ]
  },
  {
   "cell_type": "markdown",
   "id": "723b1323",
   "metadata": {},
   "source": [
    "## Setup <a name=\"setup\"></a>\n",
    "#### A simple guide on how to set up a basic scenario"
   ]
  },
  {
   "cell_type": "code",
   "execution_count": null,
   "id": "1e6a376e",
   "metadata": {},
   "outputs": [],
   "source": [
    "import sciris as sc\n",
    "import fpsim as fp"
   ]
  },
  {
   "cell_type": "code",
   "execution_count": null,
   "id": "b1d9f015",
   "metadata": {},
   "outputs": [],
   "source": [
    "# First we create a Scenarios object (repeats is the number of times to repeat the scenario with a different seed)\n",
    "scens = fp.Scenarios(location='test', n=100, repeats=3, scen_year=2005)\n",
    "\n",
    "# Then we specify a label, and what we want to change (in this case efficacy)\n",
    "uptake_scen = sc.objdict(\n",
    "    label='Increased modern',\n",
    "    eff = {'Other modern':0.994},\n",
    ")\n",
    "\n",
    "# We add the specification to the Scenarios object\n",
    "scens.add_scen(uptake_scen, label='Increase modern efficacy')\n",
    "\n",
    "# Then we run the scenario\n",
    "scens.run()\n",
    "\n",
    "# Let's see what we get\n",
    "scens.plot_scens()"
   ]
  },
  {
   "cell_type": "markdown",
   "id": "5a908dd0",
   "metadata": {},
   "source": [
    "## Efficacy <a name=\"efficacy\"></a>\n",
    "#### How to to compare sim results across different contraceptive efficacies"
   ]
  },
  {
   "cell_type": "markdown",
   "id": "9048b5d2",
   "metadata": {},
   "source": [
    "Let's suppose we want to compare the sim results at varying levels of efficacy of modern contraceptive methods. For this task we would create three specification dictionaries, add them to scenarios, and then run."
   ]
  },
  {
   "cell_type": "code",
   "execution_count": null,
   "id": "d807cd1d",
   "metadata": {},
   "outputs": [],
   "source": [
    "# Setup Scenarios object\n",
    "scens_eff = fp.Scenarios(location='test', n=100, repeats=1, scen_year=2005)\n",
    "\n",
    "# Define different scenarios\n",
    "modern_995 = sc.objdict(\n",
    "    label='Modern high efficacy',\n",
    "    eff = {'Other modern':0.994},\n",
    ")\n",
    "modern_75 = sc.objdict(\n",
    "    label='Modern moderate efficacy',\n",
    "    eff = {'Other modern':0.75},\n",
    ")\n",
    "modern_50 = sc.objdict(\n",
    "    label='Modern low efficacy',\n",
    "    eff = {'Other modern':0.5},\n",
    ")\n",
    "\n",
    "# Add to scenarios\n",
    "scens_eff.add_scen([modern_995, modern_75, modern_50])\n",
    "\n",
    "# Run scenarios\n",
    "scens_eff.run()\n",
    "\n",
    "# Compare results\n",
    "scens_eff.plot_scens()"
   ]
  },
  {
   "cell_type": "markdown",
   "id": "25c733a3",
   "metadata": {},
   "source": [
    "## Switching <a name=\"switching\"></a>\n",
    "#### How to compare sim results across different switching probabilities.\n",
    "\n",
    "Let's suppose a researcher wants to understand how an increase in a preference for condoms over other modern methods would affect cumulative live births. Below is how we would do this using Scenarios:"
   ]
  },
  {
   "cell_type": "code",
   "execution_count": null,
   "id": "d3de31cf",
   "metadata": {},
   "outputs": [],
   "source": [
    "# Setting up our Scenarios object\n",
    "scens_switching = fp.Scenarios(location='test', n=100, repeats=1, scen_year=2005)\n",
    "\n",
    "# Within our scenario we have a key called \"probs\" which is where we specify the probability of switching from\n",
    "# one contraceptive (source) to another (dest). Probs is short for \"probability of switching\"\n",
    "high_switching = sc.objdict(\n",
    "    label = \"high switching\", # label to show up in plotting\n",
    "    probs = [\n",
    "        dict(\n",
    "            source = 'Other modern', # Source method, 'all' for all methods\n",
    "            dest   = 'Condoms', # Destination\n",
    "            value  = 0.5, # Alternatively, specify the absolute probability of switching to this method\n",
    "            keys   = ['<18','18-20'], # Which age keys to modify -- if not specified, all\n",
    "        )\n",
    "    ]\n",
    ")\n",
    "    \n",
    "medium_switching = sc.objdict(\n",
    "    label = \"medium switching\",\n",
    "    probs = [\n",
    "        dict(\n",
    "            source = 'Other modern', # Source method, 'all' for all methods\n",
    "            dest   = 'Condoms', # Destination\n",
    "            value  = 0.8, # Alternatively, specify the absolute probability of switching to this method\n",
    "            keys   = ['<18','18-20'], # Which age keys to modify -- if not specified, all\n",
    "        )\n",
    "    ]\n",
    ")\n",
    "    \n",
    "low_switching = sc.objdict(\n",
    "    label = \"low_switching\",\n",
    "    probs = [\n",
    "        dict(\n",
    "            source = 'Other modern', # Source method, 'all' for all methods\n",
    "            dest   = 'Condoms', # Destination\n",
    "            value  = 0.1, # Alternatively, specify the absolute probability of switching to this method\n",
    "            keys   = ['<18','18-20'], # Which age keys to modify -- if not specified, all\n",
    "        )\n",
    "    ]\n",
    ")\n",
    "    \n",
    "scens_switching.add_scen([low_switching, medium_switching, high_switching])\n",
    "scens_switching.run()\n",
    "\n",
    "scens_switching.plot_scens()"
   ]
  },
  {
   "cell_type": "markdown",
   "id": "7c031914",
   "metadata": {},
   "source": [
    "## Comparison <a name=\"comparison\"></a>\n",
    "#### How to compare sim results in different ways\n",
    "\n",
    "The Scenarios object has a number of methods for plotting results across different scenarios. Besides plot_scens() we also have **plot_sims()** which shows us the results of each individual sim run, **plot_cpr()** which shows us some statistics on CPR, and **analyze_sims()** which logs the results of the run as a handy pandas DataFrame."
   ]
  },
  {
   "cell_type": "markdown",
   "id": "b22e677f",
   "metadata": {},
   "source": [
    "**plot_sims()**\n",
    "\n",
    "Plot sims is useful for when we want to understand the specific results of each individual sim for a given scenario. Although a group of sims for a single scenario should all have the same parameters, a difference in seed can produce a significant effect."
   ]
  },
  {
   "cell_type": "code",
   "execution_count": null,
   "id": "a491139a",
   "metadata": {},
   "outputs": [],
   "source": [
    "# Single scenario with 3 runs\n",
    "scens.plot_sims()"
   ]
  },
  {
   "cell_type": "markdown",
   "id": "adedbdad",
   "metadata": {},
   "source": [
    "**plot_cpr()**\n",
    "If we are more interested in MCPR and age-targeting then we can utilize this function to narrow our focus"
   ]
  },
  {
   "cell_type": "code",
   "execution_count": null,
   "id": "8574c41f",
   "metadata": {},
   "outputs": [],
   "source": [
    "scens_switching.plot_cpr()"
   ]
  },
  {
   "cell_type": "markdown",
   "id": "a9dcd77f",
   "metadata": {},
   "source": [
    "**analyze_sims()**\n",
    "\n",
    "Lastly, if we want to create our own custom visualization, analyze_sims() let's us log the data as a dictionary or dataframe."
   ]
  },
  {
   "cell_type": "code",
   "execution_count": null,
   "id": "64ad0b2a",
   "metadata": {},
   "outputs": [],
   "source": [
    "scens_eff.analyze_sims()"
   ]
  },
  {
   "cell_type": "code",
   "execution_count": null,
   "id": "42aa12da",
   "metadata": {},
   "outputs": [],
   "source": [
    "# Dataframe format\n",
    "scens_eff.results.df.head()"
   ]
  },
  {
   "cell_type": "code",
   "execution_count": null,
   "id": "08ad46de",
   "metadata": {},
   "outputs": [],
   "source": [
    "# Dictionary format\n",
    "scens_eff.results.stats"
   ]
  }
 ],
 "metadata": {
  "kernelspec": {
   "display_name": "Python 3 (ipykernel)",
   "language": "python",
   "name": "python3"
  },
  "language_info": {
   "codemirror_mode": {
    "name": "ipython",
    "version": 3
   },
   "file_extension": ".py",
   "mimetype": "text/x-python",
   "name": "python",
   "nbconvert_exporter": "python",
   "pygments_lexer": "ipython3",
   "version": "3.8.3"
  }
 },
 "nbformat": 4,
 "nbformat_minor": 5
}
